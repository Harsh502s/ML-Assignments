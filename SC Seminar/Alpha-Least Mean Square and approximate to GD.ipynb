{
 "cells": [
  {
   "attachments": {},
   "cell_type": "markdown",
   "metadata": {},
   "source": [
    "# **Widrow Hoff or µ-LMS an approximate to Gradient Descent**"
   ]
  },
  {
   "cell_type": "code",
   "execution_count": 2,
   "metadata": {},
   "outputs": [],
   "source": [
    "import pandas as pd\n",
    "import numpy as np\n",
    "from sklearn.metrics import mean_squared_error, r2_score\n",
    "\n",
    "# Load the Auto-MPG dataset\n",
    "auto_mpg = pd.read_csv('auto-mpg.csv')\n",
    "\n",
    "# Split the dataset into training and testing sets\n",
    "train_set = auto_mpg.sample(frac=0.8, random_state=42)\n",
    "test_set = auto_mpg.drop(train_set.index)\n",
    "\n",
    "# Normalize the input features\n",
    "train_mean = train_set.mean()\n",
    "train_std = train_set.std()\n",
    "train_set_norm = (train_set - train_mean) / train_std\n",
    "test_set_norm = (test_set - train_mean) / train_std\n"
   ]
  },
  {
   "cell_type": "code",
   "execution_count": 3,
   "metadata": {},
   "outputs": [],
   "source": [
    "\n",
    "# Implement gradient descent\n",
    "def gradient_descent(X, y, alpha, num_iters):\n",
    "    m = X.shape[0]\n",
    "    theta = np.zeros(X.shape[1])\n",
    "    J_history = np.zeros(num_iters)\n",
    "    for i in range(num_iters):\n",
    "        h = np.dot(X, theta)\n",
    "        theta -= alpha * (1/m) * np.dot(X.T, (h - y))\n",
    "        J_history[i] = np.sum((h - y)**2) / (2*m)\n",
    "    return theta, J_history\n",
    "\n",
    "# Train the gradient descent model\n",
    "X_train = train_set_norm.drop('mpg', axis=1).values\n",
    "y_train = train_set_norm['mpg'].values\n",
    "X_train = np.hstack([np.ones((X_train.shape[0], 1)), X_train])  # Add bias term\n",
    "alpha = 0.1\n",
    "num_iters = 1000\n",
    "theta_gd, J_history_gd = gradient_descent(X_train, y_train, alpha, num_iters)\n"
   ]
  },
  {
   "cell_type": "code",
   "execution_count": 4,
   "metadata": {},
   "outputs": [
    {
     "name": "stdout",
     "output_type": "stream",
     "text": [
      "Gradient Descent\n",
      "Mean squared error: 0.21\n",
      "Coefficient of determination: 0.78\n"
     ]
    }
   ],
   "source": [
    "# Evaluate the gradient descent model\n",
    "X_test = test_set_norm.drop('mpg', axis=1).values\n",
    "y_test = test_set_norm['mpg'].values\n",
    "X_test = np.hstack([np.ones((X_test.shape[0], 1)), X_test])  # Add bias term\n",
    "y_pred_gd = np.dot(X_test, theta_gd)\n",
    "print('Gradient Descent')\n",
    "print('Mean squared error: %.2f' % mean_squared_error(y_test, y_pred_gd))\n",
    "print('Coefficient of determination: %.2f' % r2_score(y_test, y_pred_gd))"
   ]
  },
  {
   "cell_type": "code",
   "execution_count": 12,
   "metadata": {},
   "outputs": [
    {
     "name": "stdout",
     "output_type": "stream",
     "text": [
      "Widrow-Hoff\n",
      "Mean squared error: 0.21\n",
      "Coefficient of determination: 0.78\n"
     ]
    }
   ],
   "source": [
    "# Creating Widrow-Hoff learning rule\n",
    "\n",
    "def Widrow_Hoff(X, y, alpha, num_iters):\n",
    "    m = X.shape[0]\n",
    "    theta = np.zeros(X.shape[1])\n",
    "    J_history = np.zeros(num_iters)\n",
    "    for i in range(num_iters):\n",
    "        h = np.dot(X, theta)\n",
    "        theta -= alpha * (1/m) * np.dot(X.T, (h - y))\n",
    "        J_history[i] = np.sum((h - y)**2) / (2*m)\n",
    "    return theta, J_history\n",
    "\n",
    "# Train the Widrow-Hoff model\n",
    "X_train = train_set_norm.drop('mpg', axis=1).values \n",
    "y_train = train_set_norm['mpg'].values\n",
    "X_train = np.hstack([np.ones((X_train.shape[0], 1)), X_train])  # Add bias term\n",
    "alpha = 0.1\n",
    "num_iters = 100\n",
    "theta_wh, J_history_wh = Widrow_Hoff(X_train, y_train, alpha, num_iters)\n",
    "\n",
    "# Evaluate the Widrow-Hoff model\n",
    "X_test = test_set_norm.drop('mpg', axis=1).values\n",
    "y_test = test_set_norm['mpg'].values\n",
    "X_test = np.hstack([np.ones((X_test.shape[0], 1)), X_test])  # Add bias term\n",
    "y_pred_wh = np.dot(X_test, theta_wh)\n",
    "print('Widrow-Hoff')\n",
    "print('Mean squared error: %.2f' % mean_squared_error(y_test, y_pred_wh))\n",
    "print('Coefficient of determination: %.2f' % r2_score(y_test, y_pred_wh))\n"
   ]
  },
  {
   "cell_type": "code",
   "execution_count": null,
   "metadata": {},
   "outputs": [],
   "source": []
  }
 ],
 "metadata": {
  "kernelspec": {
   "display_name": "Python 3",
   "language": "python",
   "name": "python3"
  },
  "language_info": {
   "codemirror_mode": {
    "name": "ipython",
    "version": 3
   },
   "file_extension": ".py",
   "mimetype": "text/x-python",
   "name": "python",
   "nbconvert_exporter": "python",
   "pygments_lexer": "ipython3",
   "version": "3.10.4"
  },
  "orig_nbformat": 4
 },
 "nbformat": 4,
 "nbformat_minor": 2
}

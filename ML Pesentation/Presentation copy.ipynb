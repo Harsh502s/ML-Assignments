{
 "cells": [
  {
   "attachments": {},
   "cell_type": "markdown",
   "metadata": {},
   "source": [
    "<div style=\"text-align: center\"> <h1>Lasso & Ridge Regression(Regularized Regression)</h1></div>"
   ]
  },
  {
   "attachments": {},
   "cell_type": "markdown",
   "metadata": {},
   "source": [
    "# Understand Regularized Regression\n",
    "> ### Regularized regression is a regression method with an additional constraint designed to deal with a large number of independent variables (a.k.a. predictors). It does so by imposing a larger penalty on unimportant ones, thus shrinking their coefficients towards zero."
   ]
  },
  {
   "attachments": {},
   "cell_type": "markdown",
   "metadata": {},
   "source": [
    "### The objective of regularization is to end up with a model:\n",
    "\n",
    "> That is simple and interpretable.\n",
    "\n",
    "> That generalizes well beyond the sample of our study.\n",
    "\n",
    "> Whose coefficients won’t change much if we replicate the study."
   ]
  },
  {
   "attachments": {},
   "cell_type": "markdown",
   "metadata": {},
   "source": [
    "## **How regularized regression works**\n",
    "#### Regularized regression works exactly like ordinary (linear or logistic) regression but with an additional constraint whose objective is to shrink unimportant regression coefficients towards zero.\n",
    "\n",
    "#### And because these coefficients can either be positive or negative, minimizing the sum of the raw coefficients will not work. Instead, we can use 1 of the following constraints:\n",
    "\n",
    "#### Either to minimize the sum of the absolute value of the regression coefficients — we call this method L1 regularization (a.k.a. LASSO regression) Or to minimize the sum of the squares of the coefficients — we call this method L2 regularization (a.k.a. Ridge regression) And because of this tiny difference, these 2 methods will end up behaving very differently."
   ]
  },
  {
   "attachments": {},
   "cell_type": "markdown",
   "metadata": {},
   "source": [
    "## Difference between L1 and L2 regularization\n",
    "\n",
    "#### The biggest difference between L1 and L2 regularization is that L1 will shrink some coefficients to exactly zero (practically excluding them from the model), making it behave as a variable selection method.\n",
    "\n",
    "#### In contrast, because L2 minimizes the sum of the squares of the coefficients, it will affect larger ones much more than it will shrink smaller ones, so coefficients close to zero will barely be shrunk further. Therefore, with L2 regularization, we end up with a model that has a lot of coefficients close to, but not exactly zero."
   ]
  },
  {
   "attachments": {},
   "cell_type": "markdown",
   "metadata": {},
   "source": [
    "## So is L1 better than L2 regularization?\n",
    "\n",
    "#### Not necessarily.\n",
    "\n",
    "#### LASSO (L1 regularization) is better when we want to select variables from a larger subset, for instance for exploratory analysis or when we want a simple interpretable model. It will also perform better (have a higher prediction accuracy) than ridge regression in situations where a small number of independent variables are good predictors of the outcome and the rest are not that important.\n",
    "\n",
    "#### Ridge regression (L2 regularization) performs better than LASSO when we have a large number of variables (or even all of them) each contributing a little bit in predicting the outcome."
   ]
  },
  {
   "attachments": {},
   "cell_type": "markdown",
   "metadata": {},
   "source": [
    "# Implementation of Lasso and Ridge Regression using a USA Housing Dataset"
   ]
  },
  {
   "cell_type": "code",
   "execution_count": 1,
   "metadata": {},
   "outputs": [],
   "source": [
    "# import the necessary libraries\n",
    "import pandas as pd\n",
    "import numpy as np\n",
    "import matplotlib.pyplot as plt\n",
    "import seaborn as sns\n",
    "import warnings\n",
    "warnings.filterwarnings('ignore')\n",
    "\n",
    "# Machine Learning and Metrics Libraries\n",
    "\n",
    "from sklearn.linear_model import Lasso, Ridge\n",
    "from sklearn.metrics import mean_squared_error,r2_score\n",
    "from sklearn.model_selection import train_test_split\n",
    "\n"
   ]
  },
  {
   "cell_type": "code",
   "execution_count": 3,
   "metadata": {},
   "outputs": [
    {
     "data": {
      "text/html": [
       "<div>\n",
       "<style scoped>\n",
       "    .dataframe tbody tr th:only-of-type {\n",
       "        vertical-align: middle;\n",
       "    }\n",
       "\n",
       "    .dataframe tbody tr th {\n",
       "        vertical-align: top;\n",
       "    }\n",
       "\n",
       "    .dataframe thead th {\n",
       "        text-align: right;\n",
       "    }\n",
       "</style>\n",
       "<table border=\"1\" class=\"dataframe\">\n",
       "  <thead>\n",
       "    <tr style=\"text-align: right;\">\n",
       "      <th></th>\n",
       "      <th>Year</th>\n",
       "      <th>Engine HP</th>\n",
       "      <th>Engine Cylinders</th>\n",
       "      <th>Number of Doors</th>\n",
       "      <th>Vehicle Size</th>\n",
       "      <th>highway MPG</th>\n",
       "      <th>city mpg</th>\n",
       "      <th>Popularity</th>\n",
       "      <th>Engine Fuel Type_electric</th>\n",
       "      <th>Engine Fuel Type_flex-fuel</th>\n",
       "      <th>Engine Fuel Type_natural gas</th>\n",
       "      <th>Engine Fuel Type_unleaded</th>\n",
       "      <th>Transmission Type_AUTOMATIC</th>\n",
       "      <th>Transmission Type_MANUAL</th>\n",
       "      <th>Driven_Wheels_front wheel drive</th>\n",
       "      <th>Driven_Wheels_rear wheel drive</th>\n",
       "      <th>Vehicle Style_Hatchback</th>\n",
       "      <th>Vehicle Style_Minivan</th>\n",
       "      <th>Vehicle Style_SUV</th>\n",
       "      <th>Vehicle Style_Sedan</th>\n",
       "      <th>Vehicle Style_Van</th>\n",
       "      <th>Vehicle Style_Wagon</th>\n",
       "      <th>MSRP</th>\n",
       "    </tr>\n",
       "  </thead>\n",
       "  <tbody>\n",
       "    <tr>\n",
       "      <th>0</th>\n",
       "      <td>2011</td>\n",
       "      <td>335.000</td>\n",
       "      <td>6</td>\n",
       "      <td>2</td>\n",
       "      <td>0</td>\n",
       "      <td>26</td>\n",
       "      <td>19</td>\n",
       "      <td>3916</td>\n",
       "      <td>0</td>\n",
       "      <td>0</td>\n",
       "      <td>0</td>\n",
       "      <td>1</td>\n",
       "      <td>0</td>\n",
       "      <td>1</td>\n",
       "      <td>0</td>\n",
       "      <td>1</td>\n",
       "      <td>0</td>\n",
       "      <td>0</td>\n",
       "      <td>0</td>\n",
       "      <td>0</td>\n",
       "      <td>0</td>\n",
       "      <td>0</td>\n",
       "      <td>46135</td>\n",
       "    </tr>\n",
       "    <tr>\n",
       "      <th>1</th>\n",
       "      <td>2011</td>\n",
       "      <td>300.000</td>\n",
       "      <td>6</td>\n",
       "      <td>2</td>\n",
       "      <td>0</td>\n",
       "      <td>28</td>\n",
       "      <td>19</td>\n",
       "      <td>3916</td>\n",
       "      <td>0</td>\n",
       "      <td>0</td>\n",
       "      <td>0</td>\n",
       "      <td>1</td>\n",
       "      <td>0</td>\n",
       "      <td>1</td>\n",
       "      <td>0</td>\n",
       "      <td>1</td>\n",
       "      <td>0</td>\n",
       "      <td>0</td>\n",
       "      <td>0</td>\n",
       "      <td>0</td>\n",
       "      <td>0</td>\n",
       "      <td>0</td>\n",
       "      <td>40650</td>\n",
       "    </tr>\n",
       "    <tr>\n",
       "      <th>2</th>\n",
       "      <td>2011</td>\n",
       "      <td>300.000</td>\n",
       "      <td>6</td>\n",
       "      <td>2</td>\n",
       "      <td>0</td>\n",
       "      <td>28</td>\n",
       "      <td>20</td>\n",
       "      <td>3916</td>\n",
       "      <td>0</td>\n",
       "      <td>0</td>\n",
       "      <td>0</td>\n",
       "      <td>1</td>\n",
       "      <td>0</td>\n",
       "      <td>1</td>\n",
       "      <td>0</td>\n",
       "      <td>1</td>\n",
       "      <td>0</td>\n",
       "      <td>0</td>\n",
       "      <td>0</td>\n",
       "      <td>0</td>\n",
       "      <td>0</td>\n",
       "      <td>0</td>\n",
       "      <td>36350</td>\n",
       "    </tr>\n",
       "    <tr>\n",
       "      <th>3</th>\n",
       "      <td>2011</td>\n",
       "      <td>230.000</td>\n",
       "      <td>6</td>\n",
       "      <td>2</td>\n",
       "      <td>0</td>\n",
       "      <td>28</td>\n",
       "      <td>18</td>\n",
       "      <td>3916</td>\n",
       "      <td>0</td>\n",
       "      <td>0</td>\n",
       "      <td>0</td>\n",
       "      <td>1</td>\n",
       "      <td>0</td>\n",
       "      <td>1</td>\n",
       "      <td>0</td>\n",
       "      <td>1</td>\n",
       "      <td>0</td>\n",
       "      <td>0</td>\n",
       "      <td>0</td>\n",
       "      <td>0</td>\n",
       "      <td>0</td>\n",
       "      <td>0</td>\n",
       "      <td>29450</td>\n",
       "    </tr>\n",
       "    <tr>\n",
       "      <th>4</th>\n",
       "      <td>2011</td>\n",
       "      <td>230.000</td>\n",
       "      <td>6</td>\n",
       "      <td>2</td>\n",
       "      <td>0</td>\n",
       "      <td>28</td>\n",
       "      <td>18</td>\n",
       "      <td>3916</td>\n",
       "      <td>0</td>\n",
       "      <td>0</td>\n",
       "      <td>0</td>\n",
       "      <td>1</td>\n",
       "      <td>0</td>\n",
       "      <td>1</td>\n",
       "      <td>0</td>\n",
       "      <td>1</td>\n",
       "      <td>0</td>\n",
       "      <td>0</td>\n",
       "      <td>0</td>\n",
       "      <td>0</td>\n",
       "      <td>0</td>\n",
       "      <td>0</td>\n",
       "      <td>34500</td>\n",
       "    </tr>\n",
       "  </tbody>\n",
       "</table>\n",
       "</div>"
      ],
      "text/plain": [
       "   Year  Engine HP  Engine Cylinders  Number of Doors  Vehicle Size  \\\n",
       "0  2011    335.000                 6                2             0   \n",
       "1  2011    300.000                 6                2             0   \n",
       "2  2011    300.000                 6                2             0   \n",
       "3  2011    230.000                 6                2             0   \n",
       "4  2011    230.000                 6                2             0   \n",
       "\n",
       "   highway MPG  city mpg  Popularity  Engine Fuel Type_electric  \\\n",
       "0           26        19        3916                          0   \n",
       "1           28        19        3916                          0   \n",
       "2           28        20        3916                          0   \n",
       "3           28        18        3916                          0   \n",
       "4           28        18        3916                          0   \n",
       "\n",
       "   Engine Fuel Type_flex-fuel  Engine Fuel Type_natural gas  \\\n",
       "0                           0                             0   \n",
       "1                           0                             0   \n",
       "2                           0                             0   \n",
       "3                           0                             0   \n",
       "4                           0                             0   \n",
       "\n",
       "   Engine Fuel Type_unleaded  Transmission Type_AUTOMATIC  \\\n",
       "0                          1                            0   \n",
       "1                          1                            0   \n",
       "2                          1                            0   \n",
       "3                          1                            0   \n",
       "4                          1                            0   \n",
       "\n",
       "   Transmission Type_MANUAL  Driven_Wheels_front wheel drive  \\\n",
       "0                         1                                0   \n",
       "1                         1                                0   \n",
       "2                         1                                0   \n",
       "3                         1                                0   \n",
       "4                         1                                0   \n",
       "\n",
       "   Driven_Wheels_rear wheel drive  Vehicle Style_Hatchback  \\\n",
       "0                               1                        0   \n",
       "1                               1                        0   \n",
       "2                               1                        0   \n",
       "3                               1                        0   \n",
       "4                               1                        0   \n",
       "\n",
       "   Vehicle Style_Minivan  Vehicle Style_SUV  Vehicle Style_Sedan  \\\n",
       "0                      0                  0                    0   \n",
       "1                      0                  0                    0   \n",
       "2                      0                  0                    0   \n",
       "3                      0                  0                    0   \n",
       "4                      0                  0                    0   \n",
       "\n",
       "   Vehicle Style_Van  Vehicle Style_Wagon   MSRP  \n",
       "0                  0                    0  46135  \n",
       "1                  0                    0  40650  \n",
       "2                  0                    0  36350  \n",
       "3                  0                    0  29450  \n",
       "4                  0                    0  34500  "
      ]
     },
     "execution_count": 3,
     "metadata": {},
     "output_type": "execute_result"
    }
   ],
   "source": [
    "\n",
    "# load the Boston housing dataset\n",
    "cars = pd.read_csv(r\"C:\\Users\\ds12\\College\\ML-Assignments\\Data Sets\\MLK\\clea.csv\")\n",
    "\n",
    "pd.set_option('display.max_columns', None)\n",
    "pd.set_option('display.float_format', lambda x: '%.3f' % x)\n",
    "\n",
    "cars.head()"
   ]
  },
  {
   "cell_type": "code",
   "execution_count": 5,
   "metadata": {},
   "outputs": [],
   "source": [
    "X = cars.drop('MSRP', axis=1)\n",
    "y = cars[['MSRP']]"
   ]
  },
  {
   "cell_type": "code",
   "execution_count": 6,
   "metadata": {},
   "outputs": [],
   "source": [
    "# split the data into training and testing sets\n",
    "X_train, X_test, y_train, y_test = train_test_split(X, y, test_size=0.3, random_state=42)"
   ]
  },
  {
   "cell_type": "code",
   "execution_count": 8,
   "metadata": {},
   "outputs": [
    {
     "name": "stdout",
     "output_type": "stream",
     "text": [
      "Fitting 5 folds for each of 224 candidates, totalling 1120 fits\n",
      "{'alpha': 10, 'max_iter': 100, 'selection': 'random', 'tol': 0.1}\n",
      "R2 Score on Training Set:  0.5091774213524946\n",
      "Lasso(alpha=10, max_iter=100, selection='random', tol=0.1)\n"
     ]
    }
   ],
   "source": [
    "# Creating Grid Search for Lasso Regression\n",
    "\n",
    "from sklearn.model_selection import GridSearchCV\n",
    "\n",
    "# Create the parameter grid based on the results of random search\n",
    "\n",
    "param_grid = {\n",
    "    'alpha': [0.001, 0.01, 0.1, 1, 10, 100, 1000],\n",
    "    'max_iter': [100, 1000, 2500, 5000],\n",
    "    'tol': [0.0001, 0.001, 0.01, 0.1],\n",
    "    'selection': ['cyclic', 'random']\n",
    "}\n",
    "\n",
    "# Create a based model\n",
    "\n",
    "lasso = Lasso()\n",
    "\n",
    "# Instantiate the grid search model\n",
    "\n",
    "grid_search_lasso = GridSearchCV(estimator = lasso, param_grid = param_grid,\n",
    "                            cv = 5, n_jobs = -1, verbose = 2)\n",
    "\n",
    "# Fit the grid search to the data\n",
    "\n",
    "grid_search_lasso.fit(X_train, y_train)\n",
    "\n",
    "\n",
    "\n",
    "# print the best parameters\n",
    "\n",
    "print(grid_search_lasso.best_params_)\n",
    "print('R2 Score on Training Set: ',r2_score(y_train,grid_search_lasso.predict(X_train)))\n",
    "print(grid_search_lasso.best_estimator_)\n",
    "\n"
   ]
  },
  {
   "cell_type": "code",
   "execution_count": 9,
   "metadata": {},
   "outputs": [
    {
     "name": "stdout",
     "output_type": "stream",
     "text": [
      "L1 Regression MSE:  40931.425890719074\n",
      "L1 Regression R2 score 0.5217000640533507\n"
     ]
    },
    {
     "data": {
      "text/plain": [
       "<Axes: xlabel='MSRP'>"
      ]
     },
     "execution_count": 9,
     "metadata": {},
     "output_type": "execute_result"
    },
    {
     "data": {
      "image/png": "[encoded data removed]",
      "text/plain": [
       "<Figure size 640x480 with 1 Axes>"
      ]
     },
     "metadata": {},
     "output_type": "display_data"
    }
   ],
   "source": [
    "# apply L1 regression\n",
    "lasso = Lasso(**grid_search_lasso.best_params_)\n",
    "lasso.fit(X_train, y_train)\n",
    "lasso_predictions = lasso.predict(X_test)\n",
    "lasso_mse = mean_squared_error(y_test, lasso_predictions)**0.5\n",
    "print(\"L1 Regression MSE: \", lasso_mse)\n",
    "print('L1 Regression R2 score',r2_score(y_test, lasso_predictions))\n",
    "sns.regplot(x=y_test, y=lasso_predictions, fit_reg=True)"
   ]
  },
  {
   "cell_type": "code",
   "execution_count": 10,
   "metadata": {},
   "outputs": [
    {
     "name": "stdout",
     "output_type": "stream",
     "text": [
      "Fitting 3 folds for each of 784 candidates, totalling 2352 fits\n",
      "{'alpha': 10, 'max_iter': 100, 'solver': 'auto', 'tol': 0.0001}\n",
      "R2 Score on Training Set:  0.5091328053560318\n",
      "Ridge(alpha=10, max_iter=100)\n"
     ]
    }
   ],
   "source": [
    "from sklearn.model_selection import GridSearchCV\n",
    "\n",
    "# Create the parameter grid based for ridge regression\n",
    "\n",
    "param_grid = {\n",
    "    'alpha': [0.001, 0.01, 0.1, 1, 10, 100, 1000],\n",
    "    'max_iter': [100, 1000, 2500, 5000],\n",
    "    'tol': [0.0001, 0.001, 0.01, 0.1],\n",
    "    'solver': ['auto', 'svd', 'cholesky', 'lsqr', 'sparse_cg', 'sag', 'saga']\n",
    "}\n",
    "\n",
    "# Create a based model\n",
    "\n",
    "ridge = Ridge()\n",
    "\n",
    "# Instantiate the grid search model\n",
    "\n",
    "grid_search_ridge = GridSearchCV(estimator = ridge, param_grid = param_grid,\n",
    "                            cv = 3, n_jobs = -1, verbose = 2)\n",
    "\n",
    "# Fit the grid search to the data\n",
    "\n",
    "grid_search_ridge.fit(X_train, y_train)\n",
    "\n",
    "# print the best parameters\n",
    "\n",
    "print(grid_search_ridge.best_params_)\n",
    "print('R2 Score on Training Set: ',r2_score(y_train,grid_search_ridge.predict(X_train)))\n",
    "print(grid_search_ridge.best_estimator_)"
   ]
  },
  {
   "cell_type": "code",
   "execution_count": 11,
   "metadata": {},
   "outputs": [
    {
     "name": "stdout",
     "output_type": "stream",
     "text": [
      "L2 Regression MSE:  40938.88087458066\n",
      "L2 Regression R2 score 0.5215258193040289\n"
     ]
    },
    {
     "data": {
      "text/plain": [
       "<Axes: xlabel='MSRP'>"
      ]
     },
     "execution_count": 11,
     "metadata": {},
     "output_type": "execute_result"
    },
    {
     "data": {
      "image/png": "[encoded data removed]",
      "text/plain": [
       "<Figure size 640x480 with 1 Axes>"
      ]
     },
     "metadata": {},
     "output_type": "display_data"
    }
   ],
   "source": [
    "\n",
    "\n",
    "# apply L2 regression\n",
    "ridge = Ridge(**grid_search_ridge.best_params_)\n",
    "ridge.fit(X_train, y_train)\n",
    "ridge_predictions = ridge.predict(X_test)\n",
    "ridge_mse = mean_squared_error(y_test, ridge_predictions)**0.5\n",
    "print(\"L2 Regression MSE: \", ridge_mse)\n",
    "print('L2 Regression R2 score',r2_score(y_test, ridge_predictions))\n",
    "sns.regplot(x=y_test, y=ridge_predictions,fit_reg=True)"
   ]
  },
  {
   "cell_type": "code",
   "execution_count": null,
   "metadata": {},
   "outputs": [],
   "source": []
  }
 ],
 "metadata": {
  "kernelspec": {
   "display_name": "Python 3",
   "language": "python",
   "name": "python3"
  },
  "language_info": {
   "codemirror_mode": {
    "name": "ipython",
    "version": 3
   },
   "file_extension": ".py",
   "mimetype": "text/x-python",
   "name": "python",
   "nbconvert_exporter": "python",
   "pygments_lexer": "ipython3",
   "version": "3.10.6"
  },
  "orig_nbformat": 4
 },
 "nbformat": 4,
 "nbformat_minor": 2
}

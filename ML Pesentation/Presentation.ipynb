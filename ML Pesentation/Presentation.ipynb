{
 "cells": [
  {
   "attachments": {},
   "cell_type": "markdown",
   "metadata": {},
   "source": [
    "<div style=\"text-align: center\"> <h1>Lasso & Ridge Regression(Regularized Regression)</h1></div>"
   ]
  },
  {
   "attachments": {},
   "cell_type": "markdown",
   "metadata": {},
   "source": [
    "# Understand Regularized Regression\n",
    "> ### Regularized regression is a regression method with an additional constraint designed to deal with a large number of independent variables (a.k.a. predictors). It does so by imposing a larger penalty on unimportant ones, thus shrinking their coefficients towards zero."
   ]
  },
  {
   "attachments": {},
   "cell_type": "markdown",
   "metadata": {},
   "source": [
    "### The objective of regularization is to end up with a model:\n",
    "\n",
    "> That is simple and interpretable.\n",
    "\n",
    "> That generalizes well beyond the sample of our study.\n",
    "\n",
    "> Whose coefficients won’t change much if we replicate the study."
   ]
  },
  {
   "attachments": {},
   "cell_type": "markdown",
   "metadata": {},
   "source": [
    "## **How regularized regression works**\n",
    "#### Regularized regression works exactly like ordinary (linear or logistic) regression but with an additional constraint whose objective is to shrink unimportant regression coefficients towards zero.\n",
    "\n",
    "#### And because these coefficients can either be positive or negative, minimizing the sum of the raw coefficients will not work. Instead, we can use 1 of the following constraints:\n",
    "\n",
    "#### Either to minimize the sum of the absolute value of the regression coefficients — we call this method L1 regularization (a.k.a. LASSO regression) Or to minimize the sum of the squares of the coefficients — we call this method L2 regularization (a.k.a. Ridge regression) And because of this tiny difference, these 2 methods will end up behaving very differently."
   ]
  },
  {
   "attachments": {},
   "cell_type": "markdown",
   "metadata": {},
   "source": [
    "## Difference between L1 and L2 regularization\n",
    "\n",
    "#### The biggest difference between L1 and L2 regularization is that L1 will shrink some coefficients to exactly zero (practically excluding them from the model), making it behave as a variable selection method.\n",
    "\n",
    "#### In contrast, because L2 minimizes the sum of the squares of the coefficients, it will affect larger ones much more than it will shrink smaller ones, so coefficients close to zero will barely be shrunk further. Therefore, with L2 regularization, we end up with a model that has a lot of coefficients close to, but not exactly zero."
   ]
  },
  {
   "attachments": {},
   "cell_type": "markdown",
   "metadata": {},
   "source": [
    "## So is L1 better than L2 regularization?\n",
    "\n",
    "#### Not necessarily.\n",
    "\n",
    "#### LASSO (L1 regularization) is better when we want to select variables from a larger subset, for instance for exploratory analysis or when we want a simple interpretable model. It will also perform better (have a higher prediction accuracy) than ridge regression in situations where a small number of independent variables are good predictors of the outcome and the rest are not that important.\n",
    "\n",
    "#### Ridge regression (L2 regularization) performs better than LASSO when we have a large number of variables (or even all of them) each contributing a little bit in predicting the outcome."
   ]
  },
  {
   "attachments": {},
   "cell_type": "markdown",
   "metadata": {},
   "source": [
    "# Implementation of Lasso and Ridge Regression using a USA Housing Dataset"
   ]
  },
  {
   "cell_type": "code",
   "execution_count": 85,
   "metadata": {},
   "outputs": [
    {
     "data": {
      "text/html": [
       "<div>\n",
       "<style scoped>\n",
       "    .dataframe tbody tr th:only-of-type {\n",
       "        vertical-align: middle;\n",
       "    }\n",
       "\n",
       "    .dataframe tbody tr th {\n",
       "        vertical-align: top;\n",
       "    }\n",
       "\n",
       "    .dataframe thead th {\n",
       "        text-align: right;\n",
       "    }\n",
       "</style>\n",
       "<table border=\"1\" class=\"dataframe\">\n",
       "  <thead>\n",
       "    <tr style=\"text-align: right;\">\n",
       "      <th></th>\n",
       "      <th>Avg. Area Income</th>\n",
       "      <th>Avg. Area House Age</th>\n",
       "      <th>Avg. Area Number of Rooms</th>\n",
       "      <th>Avg. Area Number of Bedrooms</th>\n",
       "      <th>Area Population</th>\n",
       "      <th>Price</th>\n",
       "    </tr>\n",
       "  </thead>\n",
       "  <tbody>\n",
       "    <tr>\n",
       "      <th>0</th>\n",
       "      <td>79545.459</td>\n",
       "      <td>5.683</td>\n",
       "      <td>7.009</td>\n",
       "      <td>4</td>\n",
       "      <td>23086.801</td>\n",
       "      <td>1059033.558</td>\n",
       "    </tr>\n",
       "    <tr>\n",
       "      <th>1</th>\n",
       "      <td>79248.642</td>\n",
       "      <td>6.003</td>\n",
       "      <td>6.731</td>\n",
       "      <td>3</td>\n",
       "      <td>40173.072</td>\n",
       "      <td>1505890.915</td>\n",
       "    </tr>\n",
       "    <tr>\n",
       "      <th>2</th>\n",
       "      <td>61287.067</td>\n",
       "      <td>5.866</td>\n",
       "      <td>8.513</td>\n",
       "      <td>5</td>\n",
       "      <td>36882.159</td>\n",
       "      <td>1058987.988</td>\n",
       "    </tr>\n",
       "    <tr>\n",
       "      <th>3</th>\n",
       "      <td>63345.240</td>\n",
       "      <td>7.188</td>\n",
       "      <td>5.587</td>\n",
       "      <td>3</td>\n",
       "      <td>34310.243</td>\n",
       "      <td>1260616.807</td>\n",
       "    </tr>\n",
       "    <tr>\n",
       "      <th>4</th>\n",
       "      <td>59982.197</td>\n",
       "      <td>5.041</td>\n",
       "      <td>7.839</td>\n",
       "      <td>4</td>\n",
       "      <td>26354.109</td>\n",
       "      <td>630943.489</td>\n",
       "    </tr>\n",
       "  </tbody>\n",
       "</table>\n",
       "</div>"
      ],
      "text/plain": [
       "   Avg. Area Income  Avg. Area House Age  Avg. Area Number of Rooms  \\\n",
       "0         79545.459                5.683                      7.009   \n",
       "1         79248.642                6.003                      6.731   \n",
       "2         61287.067                5.866                      8.513   \n",
       "3         63345.240                7.188                      5.587   \n",
       "4         59982.197                5.041                      7.839   \n",
       "\n",
       "   Avg. Area Number of Bedrooms  Area Population       Price  \n",
       "0                             4        23086.801 1059033.558  \n",
       "1                             3        40173.072 1505890.915  \n",
       "2                             5        36882.159 1058987.988  \n",
       "3                             3        34310.243 1260616.807  \n",
       "4                             4        26354.109  630943.489  "
      ]
     },
     "execution_count": 85,
     "metadata": {},
     "output_type": "execute_result"
    }
   ],
   "source": [
    "# import the necessary libraries\n",
    "from sklearn.linear_model import Lasso, Ridge\n",
    "from sklearn.metrics import mean_squared_error,r2_score\n",
    "from sklearn.model_selection import train_test_split\n",
    "import pandas as pd\n",
    "\n",
    "# load the Boston housing dataset\n",
    "ushouse = pd.read_csv(r\"C:\\Users\\ds12\\College\\ML-Assignments\\Data Sets\\MLK\\cleanusa.csv\")\n",
    "\n",
    "pd.set_option('display.max_columns', None)\n",
    "pd.set_option('display.float_format', lambda x: '%.3f' % x)\n",
    "\n",
    "ushouse.head()"
   ]
  },
  {
   "cell_type": "code",
   "execution_count": 86,
   "metadata": {},
   "outputs": [],
   "source": [
    "X = ushouse.drop('Price', axis=1)\n",
    "y = ushouse[['Price']]"
   ]
  },
  {
   "cell_type": "code",
   "execution_count": 87,
   "metadata": {},
   "outputs": [],
   "source": [
    "# split the data into training and testing sets\n",
    "X_train, X_test, y_train, y_test = train_test_split(X, y, test_size=0.3, random_state=42)"
   ]
  },
  {
   "cell_type": "code",
   "execution_count": 88,
   "metadata": {},
   "outputs": [
    {
     "name": "stdout",
     "output_type": "stream",
     "text": [
      "Fitting 5 folds for each of 7 candidates, totalling 35 fits\n",
      "{'alpha': 100}\n",
      "R2 Score on Training Set:  0.9176748677675155\n",
      "Lasso(alpha=100)\n"
     ]
    }
   ],
   "source": [
    "# Creating Grid Search for Lasso Regression\n",
    "\n",
    "from sklearn.model_selection import GridSearchCV\n",
    "\n",
    "# Create the parameter grid based on the results of random search\n",
    "\n",
    "param_grid = {\n",
    "    'alpha': [0.001, 0.01, 0.1, 1, 10, 100, 1000]\n",
    "}\n",
    "\n",
    "# Create a based model\n",
    "\n",
    "lasso = Lasso()\n",
    "\n",
    "# Instantiate the grid search model\n",
    "\n",
    "grid_search_lasso = GridSearchCV(estimator = lasso, param_grid = param_grid,\n",
    "                            cv = 5, n_jobs = -1, verbose = 2)\n",
    "\n",
    "# Fit the grid search to the data\n",
    "\n",
    "grid_search_lasso.fit(X_train, y_train)\n",
    "\n",
    "\n",
    "\n",
    "# print the best parameters\n",
    "\n",
    "print(grid_search_lasso.best_params_)\n",
    "print('R2 Score on Training Set: ',r2_score(y_train,grid_search_lasso.predict(X_train)))\n",
    "print(grid_search_lasso.best_estimator_)\n",
    "\n"
   ]
  },
  {
   "cell_type": "code",
   "execution_count": 89,
   "metadata": {},
   "outputs": [
    {
     "name": "stdout",
     "output_type": "stream",
     "text": [
      "L1 Regression MSE:  100705.78851260837\n",
      "L1 Regression R2 score 0.9133034332702328\n"
     ]
    }
   ],
   "source": [
    "# apply L1 regression\n",
    "lasso = Lasso(**grid_search_lasso.best_params_)\n",
    "lasso.fit(X_train, y_train)\n",
    "lasso_predictions = lasso.predict(X_test)\n",
    "lasso_mse = mean_squared_error(y_test, lasso_predictions)**0.5\n",
    "print(\"L1 Regression MSE: \", lasso_mse)\n",
    "print('L1 Regression R2 score',r2_score(y_test, lasso_predictions))"
   ]
  },
  {
   "cell_type": "code",
   "execution_count": 90,
   "metadata": {},
   "outputs": [
    {
     "name": "stdout",
     "output_type": "stream",
     "text": [
      "Fitting 3 folds for each of 7 candidates, totalling 21 fits\n",
      "{'alpha': 1}\n",
      "R2 Score on Training Set:  0.9176750111256969\n",
      "Ridge(alpha=1)\n"
     ]
    }
   ],
   "source": [
    "from sklearn.model_selection import GridSearchCV\n",
    "\n",
    "# Create the parameter grid based for ridge regression\n",
    "\n",
    "param_grid = {\n",
    "    'alpha': [0.001, 0.01, 0.1, 1, 10, 100, 1000]\n",
    "}\n",
    "\n",
    "# Create a based model\n",
    "\n",
    "ridge = Ridge()\n",
    "\n",
    "# Instantiate the grid search model\n",
    "\n",
    "grid_search_ridge = GridSearchCV(estimator = ridge, param_grid = param_grid,\n",
    "                            cv = 3, n_jobs = -1, verbose = 2)\n",
    "\n",
    "# Fit the grid search to the data\n",
    "\n",
    "grid_search_ridge.fit(X_train, y_train)\n",
    "\n",
    "# print the best parameters\n",
    "\n",
    "print(grid_search_ridge.best_params_)\n",
    "print('R2 Score on Training Set: ',r2_score(y_train,grid_search_ridge.predict(X_train)))\n",
    "print(grid_search_ridge.best_estimator_)"
   ]
  },
  {
   "cell_type": "code",
   "execution_count": 91,
   "metadata": {},
   "outputs": [
    {
     "name": "stdout",
     "output_type": "stream",
     "text": [
      "L2 Regression MSE:  100706.68507624665\n",
      "L2 Regression R2 score 0.9133018895787242\n"
     ]
    }
   ],
   "source": [
    "\n",
    "\n",
    "# apply L2 regression\n",
    "ridge = Ridge(**grid_search_ridge.best_params_)\n",
    "ridge.fit(X_train, y_train)\n",
    "ridge_predictions = ridge.predict(X_test)\n",
    "ridge_mse = mean_squared_error(y_test, ridge_predictions)**0.5\n",
    "print(\"L2 Regression MSE: \", ridge_mse)\n",
    "print('L2 Regression R2 score',r2_score(y_test, ridge_predictions))"
   ]
  },
  {
   "cell_type": "code",
   "execution_count": null,
   "metadata": {},
   "outputs": [],
   "source": []
  }
 ],
 "metadata": {
  "kernelspec": {
   "display_name": "Python 3",
   "language": "python",
   "name": "python3"
  },
  "language_info": {
   "codemirror_mode": {
    "name": "ipython",
    "version": 3
   },
   "file_extension": ".py",
   "mimetype": "text/x-python",
   "name": "python",
   "nbconvert_exporter": "python",
   "pygments_lexer": "ipython3",
   "version": "3.10.6"
  },
  "orig_nbformat": 4
 },
 "nbformat": 4,
 "nbformat_minor": 2
}

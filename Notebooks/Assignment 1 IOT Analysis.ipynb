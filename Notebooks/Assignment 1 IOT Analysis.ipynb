{
 "cells": [
  {
   "cell_type": "markdown",
   "id": "797fb77f",
   "metadata": {},
   "source": [
    "## Importing the Libraries and packages"
   ]
  },
  {
   "cell_type": "code",
   "execution_count": 1,
   "id": "5e5c8759",
   "metadata": {},
   "outputs": [],
   "source": [
    "import warnings as w\n",
    "import numpy as np\n",
    "import pandas as pd\n",
    "import seaborn as sns\n",
    "import matplotlib.pyplot as plt\n",
    "%matplotlib inline\n",
    "w.filterwarnings('ignore')\n"
   ]
  },
  {
   "cell_type": "markdown",
   "id": "85958d87",
   "metadata": {},
   "source": [
    "## Reading the datset"
   ]
  },
  {
   "cell_type": "code",
   "execution_count": 2,
   "id": "bb150714",
   "metadata": {},
   "outputs": [],
   "source": [
    "df = pd.read_csv(r\"Z:\\226511 ML\\Data Sets\\MLK\\IOT-temp.csv\")"
   ]
  },
  {
   "cell_type": "markdown",
   "id": "3230c297",
   "metadata": {},
   "source": [
    "## Dropping the id and room_id/id columns."
   ]
  },
  {
   "cell_type": "code",
   "execution_count": 3,
   "id": "40582e5d",
   "metadata": {},
   "outputs": [],
   "source": [
    "df.drop([\"id\", \"room_id/id\"], axis=1, inplace=True)\n"
   ]
  },
  {
   "cell_type": "code",
   "execution_count": 4,
   "id": "400a9129",
   "metadata": {},
   "outputs": [
    {
     "data": {
      "text/html": [
       "<div>\n",
       "<style scoped>\n",
       "    .dataframe tbody tr th:only-of-type {\n",
       "        vertical-align: middle;\n",
       "    }\n",
       "\n",
       "    .dataframe tbody tr th {\n",
       "        vertical-align: top;\n",
       "    }\n",
       "\n",
       "    .dataframe thead th {\n",
       "        text-align: right;\n",
       "    }\n",
       "</style>\n",
       "<table border=\"1\" class=\"dataframe\">\n",
       "  <thead>\n",
       "    <tr style=\"text-align: right;\">\n",
       "      <th></th>\n",
       "      <th>noted_date</th>\n",
       "      <th>temp</th>\n",
       "      <th>out/in</th>\n",
       "    </tr>\n",
       "  </thead>\n",
       "  <tbody>\n",
       "    <tr>\n",
       "      <th>0</th>\n",
       "      <td>08-12-2018 09:30</td>\n",
       "      <td>29</td>\n",
       "      <td>In</td>\n",
       "    </tr>\n",
       "    <tr>\n",
       "      <th>1</th>\n",
       "      <td>08-12-2018 09:30</td>\n",
       "      <td>29</td>\n",
       "      <td>In</td>\n",
       "    </tr>\n",
       "    <tr>\n",
       "      <th>2</th>\n",
       "      <td>08-12-2018 09:29</td>\n",
       "      <td>41</td>\n",
       "      <td>Out</td>\n",
       "    </tr>\n",
       "    <tr>\n",
       "      <th>3</th>\n",
       "      <td>08-12-2018 09:29</td>\n",
       "      <td>41</td>\n",
       "      <td>Out</td>\n",
       "    </tr>\n",
       "    <tr>\n",
       "      <th>4</th>\n",
       "      <td>08-12-2018 09:29</td>\n",
       "      <td>31</td>\n",
       "      <td>In</td>\n",
       "    </tr>\n",
       "    <tr>\n",
       "      <th>...</th>\n",
       "      <td>...</td>\n",
       "      <td>...</td>\n",
       "      <td>...</td>\n",
       "    </tr>\n",
       "    <tr>\n",
       "      <th>97601</th>\n",
       "      <td>28-07-2018 07:07</td>\n",
       "      <td>31</td>\n",
       "      <td>In</td>\n",
       "    </tr>\n",
       "    <tr>\n",
       "      <th>97602</th>\n",
       "      <td>28-07-2018 07:07</td>\n",
       "      <td>31</td>\n",
       "      <td>In</td>\n",
       "    </tr>\n",
       "    <tr>\n",
       "      <th>97603</th>\n",
       "      <td>28-07-2018 07:06</td>\n",
       "      <td>31</td>\n",
       "      <td>In</td>\n",
       "    </tr>\n",
       "    <tr>\n",
       "      <th>97604</th>\n",
       "      <td>28-07-2018 07:06</td>\n",
       "      <td>31</td>\n",
       "      <td>In</td>\n",
       "    </tr>\n",
       "    <tr>\n",
       "      <th>97605</th>\n",
       "      <td>28-07-2018 07:06</td>\n",
       "      <td>31</td>\n",
       "      <td>In</td>\n",
       "    </tr>\n",
       "  </tbody>\n",
       "</table>\n",
       "<p>97606 rows × 3 columns</p>\n",
       "</div>"
      ],
      "text/plain": [
       "             noted_date  temp out/in\n",
       "0      08-12-2018 09:30    29     In\n",
       "1      08-12-2018 09:30    29     In\n",
       "2      08-12-2018 09:29    41    Out\n",
       "3      08-12-2018 09:29    41    Out\n",
       "4      08-12-2018 09:29    31     In\n",
       "...                 ...   ...    ...\n",
       "97601  28-07-2018 07:07    31     In\n",
       "97602  28-07-2018 07:07    31     In\n",
       "97603  28-07-2018 07:06    31     In\n",
       "97604  28-07-2018 07:06    31     In\n",
       "97605  28-07-2018 07:06    31     In\n",
       "\n",
       "[97606 rows x 3 columns]"
      ]
     },
     "execution_count": 4,
     "metadata": {},
     "output_type": "execute_result"
    }
   ],
   "source": [
    "df"
   ]
  },
  {
   "cell_type": "markdown",
   "id": "7a7aa9a6",
   "metadata": {},
   "source": [
    "## Printing the statistics of the dataset."
   ]
  },
  {
   "cell_type": "code",
   "execution_count": 5,
   "id": "d560fade",
   "metadata": {},
   "outputs": [
    {
     "data": {
      "text/html": [
       "<div>\n",
       "<style scoped>\n",
       "    .dataframe tbody tr th:only-of-type {\n",
       "        vertical-align: middle;\n",
       "    }\n",
       "\n",
       "    .dataframe tbody tr th {\n",
       "        vertical-align: top;\n",
       "    }\n",
       "\n",
       "    .dataframe thead th {\n",
       "        text-align: right;\n",
       "    }\n",
       "</style>\n",
       "<table border=\"1\" class=\"dataframe\">\n",
       "  <thead>\n",
       "    <tr style=\"text-align: right;\">\n",
       "      <th></th>\n",
       "      <th>temp</th>\n",
       "    </tr>\n",
       "  </thead>\n",
       "  <tbody>\n",
       "    <tr>\n",
       "      <th>count</th>\n",
       "      <td>97606.000000</td>\n",
       "    </tr>\n",
       "    <tr>\n",
       "      <th>mean</th>\n",
       "      <td>35.053931</td>\n",
       "    </tr>\n",
       "    <tr>\n",
       "      <th>std</th>\n",
       "      <td>5.699825</td>\n",
       "    </tr>\n",
       "    <tr>\n",
       "      <th>min</th>\n",
       "      <td>21.000000</td>\n",
       "    </tr>\n",
       "    <tr>\n",
       "      <th>25%</th>\n",
       "      <td>30.000000</td>\n",
       "    </tr>\n",
       "    <tr>\n",
       "      <th>50%</th>\n",
       "      <td>35.000000</td>\n",
       "    </tr>\n",
       "    <tr>\n",
       "      <th>75%</th>\n",
       "      <td>40.000000</td>\n",
       "    </tr>\n",
       "    <tr>\n",
       "      <th>max</th>\n",
       "      <td>51.000000</td>\n",
       "    </tr>\n",
       "  </tbody>\n",
       "</table>\n",
       "</div>"
      ],
      "text/plain": [
       "               temp\n",
       "count  97606.000000\n",
       "mean      35.053931\n",
       "std        5.699825\n",
       "min       21.000000\n",
       "25%       30.000000\n",
       "50%       35.000000\n",
       "75%       40.000000\n",
       "max       51.000000"
      ]
     },
     "execution_count": 5,
     "metadata": {},
     "output_type": "execute_result"
    }
   ],
   "source": [
    "df.describe()"
   ]
  },
  {
   "cell_type": "markdown",
   "id": "d224ad7f",
   "metadata": {},
   "source": [
    "## Printing the structure of data."
   ]
  },
  {
   "cell_type": "code",
   "execution_count": 6,
   "id": "f7b0b5e5",
   "metadata": {},
   "outputs": [
    {
     "name": "stdout",
     "output_type": "stream",
     "text": [
      "<class 'pandas.core.frame.DataFrame'>\n",
      "RangeIndex: 97606 entries, 0 to 97605\n",
      "Data columns (total 3 columns):\n",
      " #   Column      Non-Null Count  Dtype \n",
      "---  ------      --------------  ----- \n",
      " 0   noted_date  97606 non-null  object\n",
      " 1   temp        97606 non-null  int64 \n",
      " 2   out/in      97606 non-null  object\n",
      "dtypes: int64(1), object(2)\n",
      "memory usage: 2.2+ MB\n"
     ]
    }
   ],
   "source": [
    "df.info()"
   ]
  },
  {
   "cell_type": "markdown",
   "id": "6d0971fb",
   "metadata": {},
   "source": [
    "## Checking the null values in the dataset."
   ]
  },
  {
   "cell_type": "code",
   "execution_count": 7,
   "id": "61f9257d",
   "metadata": {},
   "outputs": [
    {
     "data": {
      "text/plain": [
       "noted_date    0\n",
       "temp          0\n",
       "out/in        0\n",
       "dtype: int64"
      ]
     },
     "execution_count": 7,
     "metadata": {},
     "output_type": "execute_result"
    }
   ],
   "source": [
    "df.isna().sum()"
   ]
  },
  {
   "cell_type": "code",
   "execution_count": 8,
   "id": "7ef06af0",
   "metadata": {},
   "outputs": [
    {
     "data": {
      "text/html": [
       "<div>\n",
       "<style scoped>\n",
       "    .dataframe tbody tr th:only-of-type {\n",
       "        vertical-align: middle;\n",
       "    }\n",
       "\n",
       "    .dataframe tbody tr th {\n",
       "        vertical-align: top;\n",
       "    }\n",
       "\n",
       "    .dataframe thead th {\n",
       "        text-align: right;\n",
       "    }\n",
       "</style>\n",
       "<table border=\"1\" class=\"dataframe\">\n",
       "  <thead>\n",
       "    <tr style=\"text-align: right;\">\n",
       "      <th></th>\n",
       "      <th>noted_date</th>\n",
       "      <th>temp</th>\n",
       "      <th>out/in</th>\n",
       "    </tr>\n",
       "  </thead>\n",
       "  <tbody>\n",
       "    <tr>\n",
       "      <th>0</th>\n",
       "      <td>08-12-2018 09:30</td>\n",
       "      <td>29</td>\n",
       "      <td>In</td>\n",
       "    </tr>\n",
       "    <tr>\n",
       "      <th>1</th>\n",
       "      <td>08-12-2018 09:30</td>\n",
       "      <td>29</td>\n",
       "      <td>In</td>\n",
       "    </tr>\n",
       "    <tr>\n",
       "      <th>2</th>\n",
       "      <td>08-12-2018 09:29</td>\n",
       "      <td>41</td>\n",
       "      <td>Out</td>\n",
       "    </tr>\n",
       "    <tr>\n",
       "      <th>3</th>\n",
       "      <td>08-12-2018 09:29</td>\n",
       "      <td>41</td>\n",
       "      <td>Out</td>\n",
       "    </tr>\n",
       "    <tr>\n",
       "      <th>4</th>\n",
       "      <td>08-12-2018 09:29</td>\n",
       "      <td>31</td>\n",
       "      <td>In</td>\n",
       "    </tr>\n",
       "    <tr>\n",
       "      <th>...</th>\n",
       "      <td>...</td>\n",
       "      <td>...</td>\n",
       "      <td>...</td>\n",
       "    </tr>\n",
       "    <tr>\n",
       "      <th>97601</th>\n",
       "      <td>28-07-2018 07:07</td>\n",
       "      <td>31</td>\n",
       "      <td>In</td>\n",
       "    </tr>\n",
       "    <tr>\n",
       "      <th>97602</th>\n",
       "      <td>28-07-2018 07:07</td>\n",
       "      <td>31</td>\n",
       "      <td>In</td>\n",
       "    </tr>\n",
       "    <tr>\n",
       "      <th>97603</th>\n",
       "      <td>28-07-2018 07:06</td>\n",
       "      <td>31</td>\n",
       "      <td>In</td>\n",
       "    </tr>\n",
       "    <tr>\n",
       "      <th>97604</th>\n",
       "      <td>28-07-2018 07:06</td>\n",
       "      <td>31</td>\n",
       "      <td>In</td>\n",
       "    </tr>\n",
       "    <tr>\n",
       "      <th>97605</th>\n",
       "      <td>28-07-2018 07:06</td>\n",
       "      <td>31</td>\n",
       "      <td>In</td>\n",
       "    </tr>\n",
       "  </tbody>\n",
       "</table>\n",
       "<p>97606 rows × 3 columns</p>\n",
       "</div>"
      ],
      "text/plain": [
       "             noted_date  temp out/in\n",
       "0      08-12-2018 09:30    29     In\n",
       "1      08-12-2018 09:30    29     In\n",
       "2      08-12-2018 09:29    41    Out\n",
       "3      08-12-2018 09:29    41    Out\n",
       "4      08-12-2018 09:29    31     In\n",
       "...                 ...   ...    ...\n",
       "97601  28-07-2018 07:07    31     In\n",
       "97602  28-07-2018 07:07    31     In\n",
       "97603  28-07-2018 07:06    31     In\n",
       "97604  28-07-2018 07:06    31     In\n",
       "97605  28-07-2018 07:06    31     In\n",
       "\n",
       "[97606 rows x 3 columns]"
      ]
     },
     "execution_count": 8,
     "metadata": {},
     "output_type": "execute_result"
    }
   ],
   "source": [
    "df"
   ]
  },
  {
   "cell_type": "markdown",
   "id": "f934bd23",
   "metadata": {},
   "source": [
    "## Converting the timestamp column from object to datatime for feature engineering."
   ]
  },
  {
   "cell_type": "code",
   "execution_count": 9,
   "id": "3f960a11",
   "metadata": {},
   "outputs": [],
   "source": [
    "df[\"noted_date\"] = pd.to_datetime(df.noted_date)\n"
   ]
  },
  {
   "cell_type": "code",
   "execution_count": 10,
   "id": "a86edc78",
   "metadata": {},
   "outputs": [],
   "source": [
    "df[\"date\"] = df[\"noted_date\"].dt.date\n",
    "df[\"time\"] = df[\"noted_date\"].dt.time\n"
   ]
  },
  {
   "cell_type": "code",
   "execution_count": 11,
   "id": "c581360b",
   "metadata": {},
   "outputs": [],
   "source": [
    "df.drop(\"noted_date\", axis=1, inplace=True)\n"
   ]
  },
  {
   "cell_type": "code",
   "execution_count": 12,
   "id": "9240d19d",
   "metadata": {},
   "outputs": [
    {
     "data": {
      "text/html": [
       "<div>\n",
       "<style scoped>\n",
       "    .dataframe tbody tr th:only-of-type {\n",
       "        vertical-align: middle;\n",
       "    }\n",
       "\n",
       "    .dataframe tbody tr th {\n",
       "        vertical-align: top;\n",
       "    }\n",
       "\n",
       "    .dataframe thead th {\n",
       "        text-align: right;\n",
       "    }\n",
       "</style>\n",
       "<table border=\"1\" class=\"dataframe\">\n",
       "  <thead>\n",
       "    <tr style=\"text-align: right;\">\n",
       "      <th></th>\n",
       "      <th>temp</th>\n",
       "      <th>out/in</th>\n",
       "      <th>date</th>\n",
       "      <th>time</th>\n",
       "    </tr>\n",
       "  </thead>\n",
       "  <tbody>\n",
       "    <tr>\n",
       "      <th>0</th>\n",
       "      <td>29</td>\n",
       "      <td>In</td>\n",
       "      <td>2018-08-12</td>\n",
       "      <td>09:30:00</td>\n",
       "    </tr>\n",
       "    <tr>\n",
       "      <th>1</th>\n",
       "      <td>29</td>\n",
       "      <td>In</td>\n",
       "      <td>2018-08-12</td>\n",
       "      <td>09:30:00</td>\n",
       "    </tr>\n",
       "    <tr>\n",
       "      <th>2</th>\n",
       "      <td>41</td>\n",
       "      <td>Out</td>\n",
       "      <td>2018-08-12</td>\n",
       "      <td>09:29:00</td>\n",
       "    </tr>\n",
       "    <tr>\n",
       "      <th>3</th>\n",
       "      <td>41</td>\n",
       "      <td>Out</td>\n",
       "      <td>2018-08-12</td>\n",
       "      <td>09:29:00</td>\n",
       "    </tr>\n",
       "    <tr>\n",
       "      <th>4</th>\n",
       "      <td>31</td>\n",
       "      <td>In</td>\n",
       "      <td>2018-08-12</td>\n",
       "      <td>09:29:00</td>\n",
       "    </tr>\n",
       "    <tr>\n",
       "      <th>...</th>\n",
       "      <td>...</td>\n",
       "      <td>...</td>\n",
       "      <td>...</td>\n",
       "      <td>...</td>\n",
       "    </tr>\n",
       "    <tr>\n",
       "      <th>97601</th>\n",
       "      <td>31</td>\n",
       "      <td>In</td>\n",
       "      <td>2018-07-28</td>\n",
       "      <td>07:07:00</td>\n",
       "    </tr>\n",
       "    <tr>\n",
       "      <th>97602</th>\n",
       "      <td>31</td>\n",
       "      <td>In</td>\n",
       "      <td>2018-07-28</td>\n",
       "      <td>07:07:00</td>\n",
       "    </tr>\n",
       "    <tr>\n",
       "      <th>97603</th>\n",
       "      <td>31</td>\n",
       "      <td>In</td>\n",
       "      <td>2018-07-28</td>\n",
       "      <td>07:06:00</td>\n",
       "    </tr>\n",
       "    <tr>\n",
       "      <th>97604</th>\n",
       "      <td>31</td>\n",
       "      <td>In</td>\n",
       "      <td>2018-07-28</td>\n",
       "      <td>07:06:00</td>\n",
       "    </tr>\n",
       "    <tr>\n",
       "      <th>97605</th>\n",
       "      <td>31</td>\n",
       "      <td>In</td>\n",
       "      <td>2018-07-28</td>\n",
       "      <td>07:06:00</td>\n",
       "    </tr>\n",
       "  </tbody>\n",
       "</table>\n",
       "<p>97606 rows × 4 columns</p>\n",
       "</div>"
      ],
      "text/plain": [
       "       temp out/in        date      time\n",
       "0        29     In  2018-08-12  09:30:00\n",
       "1        29     In  2018-08-12  09:30:00\n",
       "2        41    Out  2018-08-12  09:29:00\n",
       "3        41    Out  2018-08-12  09:29:00\n",
       "4        31     In  2018-08-12  09:29:00\n",
       "...     ...    ...         ...       ...\n",
       "97601    31     In  2018-07-28  07:07:00\n",
       "97602    31     In  2018-07-28  07:07:00\n",
       "97603    31     In  2018-07-28  07:06:00\n",
       "97604    31     In  2018-07-28  07:06:00\n",
       "97605    31     In  2018-07-28  07:06:00\n",
       "\n",
       "[97606 rows x 4 columns]"
      ]
     },
     "execution_count": 12,
     "metadata": {},
     "output_type": "execute_result"
    }
   ],
   "source": [
    "df"
   ]
  },
  {
   "cell_type": "markdown",
   "id": "4d3058a6",
   "metadata": {},
   "source": [
    "## Encoding the labels into 0(In) and 1(Out)."
   ]
  },
  {
   "cell_type": "code",
   "execution_count": 13,
   "id": "7accb99d",
   "metadata": {},
   "outputs": [],
   "source": [
    "from sklearn.preprocessing import LabelEncoder\n",
    "\n",
    "le = LabelEncoder()\n"
   ]
  },
  {
   "cell_type": "code",
   "execution_count": 14,
   "id": "35248e39",
   "metadata": {},
   "outputs": [],
   "source": [
    "df[\"out/in\"] = le.fit_transform(df[\"out/in\"])\n"
   ]
  },
  {
   "cell_type": "code",
   "execution_count": 15,
   "id": "dbac84e0",
   "metadata": {},
   "outputs": [],
   "source": [
    "df = df.rename(columns={\"out/in\": \"in/out\"})\n"
   ]
  },
  {
   "cell_type": "code",
   "execution_count": 16,
   "id": "1b3dcc2e",
   "metadata": {},
   "outputs": [
    {
     "data": {
      "text/html": [
       "<div>\n",
       "<style scoped>\n",
       "    .dataframe tbody tr th:only-of-type {\n",
       "        vertical-align: middle;\n",
       "    }\n",
       "\n",
       "    .dataframe tbody tr th {\n",
       "        vertical-align: top;\n",
       "    }\n",
       "\n",
       "    .dataframe thead th {\n",
       "        text-align: right;\n",
       "    }\n",
       "</style>\n",
       "<table border=\"1\" class=\"dataframe\">\n",
       "  <thead>\n",
       "    <tr style=\"text-align: right;\">\n",
       "      <th></th>\n",
       "      <th>temp</th>\n",
       "      <th>in/out</th>\n",
       "      <th>date</th>\n",
       "      <th>time</th>\n",
       "    </tr>\n",
       "  </thead>\n",
       "  <tbody>\n",
       "    <tr>\n",
       "      <th>0</th>\n",
       "      <td>29</td>\n",
       "      <td>0</td>\n",
       "      <td>2018-08-12</td>\n",
       "      <td>09:30:00</td>\n",
       "    </tr>\n",
       "    <tr>\n",
       "      <th>1</th>\n",
       "      <td>29</td>\n",
       "      <td>0</td>\n",
       "      <td>2018-08-12</td>\n",
       "      <td>09:30:00</td>\n",
       "    </tr>\n",
       "    <tr>\n",
       "      <th>2</th>\n",
       "      <td>41</td>\n",
       "      <td>1</td>\n",
       "      <td>2018-08-12</td>\n",
       "      <td>09:29:00</td>\n",
       "    </tr>\n",
       "    <tr>\n",
       "      <th>3</th>\n",
       "      <td>41</td>\n",
       "      <td>1</td>\n",
       "      <td>2018-08-12</td>\n",
       "      <td>09:29:00</td>\n",
       "    </tr>\n",
       "    <tr>\n",
       "      <th>4</th>\n",
       "      <td>31</td>\n",
       "      <td>0</td>\n",
       "      <td>2018-08-12</td>\n",
       "      <td>09:29:00</td>\n",
       "    </tr>\n",
       "    <tr>\n",
       "      <th>...</th>\n",
       "      <td>...</td>\n",
       "      <td>...</td>\n",
       "      <td>...</td>\n",
       "      <td>...</td>\n",
       "    </tr>\n",
       "    <tr>\n",
       "      <th>97601</th>\n",
       "      <td>31</td>\n",
       "      <td>0</td>\n",
       "      <td>2018-07-28</td>\n",
       "      <td>07:07:00</td>\n",
       "    </tr>\n",
       "    <tr>\n",
       "      <th>97602</th>\n",
       "      <td>31</td>\n",
       "      <td>0</td>\n",
       "      <td>2018-07-28</td>\n",
       "      <td>07:07:00</td>\n",
       "    </tr>\n",
       "    <tr>\n",
       "      <th>97603</th>\n",
       "      <td>31</td>\n",
       "      <td>0</td>\n",
       "      <td>2018-07-28</td>\n",
       "      <td>07:06:00</td>\n",
       "    </tr>\n",
       "    <tr>\n",
       "      <th>97604</th>\n",
       "      <td>31</td>\n",
       "      <td>0</td>\n",
       "      <td>2018-07-28</td>\n",
       "      <td>07:06:00</td>\n",
       "    </tr>\n",
       "    <tr>\n",
       "      <th>97605</th>\n",
       "      <td>31</td>\n",
       "      <td>0</td>\n",
       "      <td>2018-07-28</td>\n",
       "      <td>07:06:00</td>\n",
       "    </tr>\n",
       "  </tbody>\n",
       "</table>\n",
       "<p>97606 rows × 4 columns</p>\n",
       "</div>"
      ],
      "text/plain": [
       "       temp  in/out        date      time\n",
       "0        29       0  2018-08-12  09:30:00\n",
       "1        29       0  2018-08-12  09:30:00\n",
       "2        41       1  2018-08-12  09:29:00\n",
       "3        41       1  2018-08-12  09:29:00\n",
       "4        31       0  2018-08-12  09:29:00\n",
       "...     ...     ...         ...       ...\n",
       "97601    31       0  2018-07-28  07:07:00\n",
       "97602    31       0  2018-07-28  07:07:00\n",
       "97603    31       0  2018-07-28  07:06:00\n",
       "97604    31       0  2018-07-28  07:06:00\n",
       "97605    31       0  2018-07-28  07:06:00\n",
       "\n",
       "[97606 rows x 4 columns]"
      ]
     },
     "execution_count": 16,
     "metadata": {},
     "output_type": "execute_result"
    }
   ],
   "source": [
    "df"
   ]
  },
  {
   "cell_type": "markdown",
   "id": "96cd2af2",
   "metadata": {},
   "source": [
    "## Extracting the Year, Month, Day from date column."
   ]
  },
  {
   "cell_type": "code",
   "execution_count": 17,
   "id": "b9515d98",
   "metadata": {},
   "outputs": [],
   "source": [
    "df.date = pd.to_datetime(df.date)"
   ]
  },
  {
   "cell_type": "code",
   "execution_count": 18,
   "id": "1fc70352",
   "metadata": {},
   "outputs": [],
   "source": [
    "df[\"year\"] = df[\"date\"].dt.year\n",
    "df[\"month\"] = df[\"date\"].dt.month\n",
    "df[\"day\"] = df[\"date\"].dt.day\n"
   ]
  },
  {
   "cell_type": "code",
   "execution_count": 19,
   "id": "2bc9467b",
   "metadata": {},
   "outputs": [
    {
     "data": {
      "text/html": [
       "<div>\n",
       "<style scoped>\n",
       "    .dataframe tbody tr th:only-of-type {\n",
       "        vertical-align: middle;\n",
       "    }\n",
       "\n",
       "    .dataframe tbody tr th {\n",
       "        vertical-align: top;\n",
       "    }\n",
       "\n",
       "    .dataframe thead th {\n",
       "        text-align: right;\n",
       "    }\n",
       "</style>\n",
       "<table border=\"1\" class=\"dataframe\">\n",
       "  <thead>\n",
       "    <tr style=\"text-align: right;\">\n",
       "      <th></th>\n",
       "      <th>temp</th>\n",
       "      <th>in/out</th>\n",
       "      <th>date</th>\n",
       "      <th>time</th>\n",
       "      <th>year</th>\n",
       "      <th>month</th>\n",
       "      <th>day</th>\n",
       "    </tr>\n",
       "  </thead>\n",
       "  <tbody>\n",
       "    <tr>\n",
       "      <th>0</th>\n",
       "      <td>29</td>\n",
       "      <td>0</td>\n",
       "      <td>2018-08-12</td>\n",
       "      <td>09:30:00</td>\n",
       "      <td>2018</td>\n",
       "      <td>8</td>\n",
       "      <td>12</td>\n",
       "    </tr>\n",
       "    <tr>\n",
       "      <th>1</th>\n",
       "      <td>29</td>\n",
       "      <td>0</td>\n",
       "      <td>2018-08-12</td>\n",
       "      <td>09:30:00</td>\n",
       "      <td>2018</td>\n",
       "      <td>8</td>\n",
       "      <td>12</td>\n",
       "    </tr>\n",
       "    <tr>\n",
       "      <th>2</th>\n",
       "      <td>41</td>\n",
       "      <td>1</td>\n",
       "      <td>2018-08-12</td>\n",
       "      <td>09:29:00</td>\n",
       "      <td>2018</td>\n",
       "      <td>8</td>\n",
       "      <td>12</td>\n",
       "    </tr>\n",
       "    <tr>\n",
       "      <th>3</th>\n",
       "      <td>41</td>\n",
       "      <td>1</td>\n",
       "      <td>2018-08-12</td>\n",
       "      <td>09:29:00</td>\n",
       "      <td>2018</td>\n",
       "      <td>8</td>\n",
       "      <td>12</td>\n",
       "    </tr>\n",
       "    <tr>\n",
       "      <th>4</th>\n",
       "      <td>31</td>\n",
       "      <td>0</td>\n",
       "      <td>2018-08-12</td>\n",
       "      <td>09:29:00</td>\n",
       "      <td>2018</td>\n",
       "      <td>8</td>\n",
       "      <td>12</td>\n",
       "    </tr>\n",
       "    <tr>\n",
       "      <th>...</th>\n",
       "      <td>...</td>\n",
       "      <td>...</td>\n",
       "      <td>...</td>\n",
       "      <td>...</td>\n",
       "      <td>...</td>\n",
       "      <td>...</td>\n",
       "      <td>...</td>\n",
       "    </tr>\n",
       "    <tr>\n",
       "      <th>97601</th>\n",
       "      <td>31</td>\n",
       "      <td>0</td>\n",
       "      <td>2018-07-28</td>\n",
       "      <td>07:07:00</td>\n",
       "      <td>2018</td>\n",
       "      <td>7</td>\n",
       "      <td>28</td>\n",
       "    </tr>\n",
       "    <tr>\n",
       "      <th>97602</th>\n",
       "      <td>31</td>\n",
       "      <td>0</td>\n",
       "      <td>2018-07-28</td>\n",
       "      <td>07:07:00</td>\n",
       "      <td>2018</td>\n",
       "      <td>7</td>\n",
       "      <td>28</td>\n",
       "    </tr>\n",
       "    <tr>\n",
       "      <th>97603</th>\n",
       "      <td>31</td>\n",
       "      <td>0</td>\n",
       "      <td>2018-07-28</td>\n",
       "      <td>07:06:00</td>\n",
       "      <td>2018</td>\n",
       "      <td>7</td>\n",
       "      <td>28</td>\n",
       "    </tr>\n",
       "    <tr>\n",
       "      <th>97604</th>\n",
       "      <td>31</td>\n",
       "      <td>0</td>\n",
       "      <td>2018-07-28</td>\n",
       "      <td>07:06:00</td>\n",
       "      <td>2018</td>\n",
       "      <td>7</td>\n",
       "      <td>28</td>\n",
       "    </tr>\n",
       "    <tr>\n",
       "      <th>97605</th>\n",
       "      <td>31</td>\n",
       "      <td>0</td>\n",
       "      <td>2018-07-28</td>\n",
       "      <td>07:06:00</td>\n",
       "      <td>2018</td>\n",
       "      <td>7</td>\n",
       "      <td>28</td>\n",
       "    </tr>\n",
       "  </tbody>\n",
       "</table>\n",
       "<p>97606 rows × 7 columns</p>\n",
       "</div>"
      ],
      "text/plain": [
       "       temp  in/out       date      time  year  month  day\n",
       "0        29       0 2018-08-12  09:30:00  2018      8   12\n",
       "1        29       0 2018-08-12  09:30:00  2018      8   12\n",
       "2        41       1 2018-08-12  09:29:00  2018      8   12\n",
       "3        41       1 2018-08-12  09:29:00  2018      8   12\n",
       "4        31       0 2018-08-12  09:29:00  2018      8   12\n",
       "...     ...     ...        ...       ...   ...    ...  ...\n",
       "97601    31       0 2018-07-28  07:07:00  2018      7   28\n",
       "97602    31       0 2018-07-28  07:07:00  2018      7   28\n",
       "97603    31       0 2018-07-28  07:06:00  2018      7   28\n",
       "97604    31       0 2018-07-28  07:06:00  2018      7   28\n",
       "97605    31       0 2018-07-28  07:06:00  2018      7   28\n",
       "\n",
       "[97606 rows x 7 columns]"
      ]
     },
     "execution_count": 19,
     "metadata": {},
     "output_type": "execute_result"
    }
   ],
   "source": [
    "df"
   ]
  },
  {
   "cell_type": "markdown",
   "id": "3eabca51",
   "metadata": {},
   "source": [
    "## Plotting the box/whisker plot for temperature's data."
   ]
  },
  {
   "cell_type": "code",
   "execution_count": 20,
   "id": "b125c1e9",
   "metadata": {},
   "outputs": [
    {
     "data": {
      "text/plain": [
       "<AxesSubplot:xlabel='temp'>"
      ]
     },
     "execution_count": 20,
     "metadata": {},
     "output_type": "execute_result"
    },
    {
     "data": {
      "image/png": "[encoded data removed]",
      "text/plain": [
       "<Figure size 720x720 with 1 Axes>"
      ]
     },
     "metadata": {
      "needs_background": "light"
     },
     "output_type": "display_data"
    }
   ],
   "source": [
    "plt.figure(figsize=(10, 10))\n",
    "sns.set_theme(style=\"whitegrid\")\n",
    "sns.boxplot(\"temp\", data=df, palette=\"Set1\")\n"
   ]
  },
  {
   "cell_type": "markdown",
   "id": "b4c0c9b8",
   "metadata": {},
   "source": [
    "## Data distribution of Temp of IOT devices is good."
   ]
  },
  {
   "cell_type": "code",
   "execution_count": 25,
   "id": "1773caf4",
   "metadata": {},
   "outputs": [],
   "source": [
    "a = df[[\"temp\", \"in/out\"]].groupby(\"in/out\").count()\n"
   ]
  },
  {
   "cell_type": "code",
   "execution_count": 27,
   "id": "16b1076b",
   "metadata": {},
   "outputs": [],
   "source": [
    "a.reset_index(inplace=True)"
   ]
  },
  {
   "cell_type": "markdown",
   "id": "edd87b82",
   "metadata": {},
   "source": [
    "## Plotting the barplot for temp vs in/out."
   ]
  },
  {
   "cell_type": "code",
   "execution_count": 28,
   "id": "91368c63",
   "metadata": {},
   "outputs": [
    {
     "data": {
      "text/plain": [
       "<seaborn.axisgrid.FacetGrid at 0x1e5855775b0>"
      ]
     },
     "execution_count": 28,
     "metadata": {},
     "output_type": "execute_result"
    },
    {
     "data": {
      "image/png": "[encoded data removed]",
      "text/plain": [
       "<Figure size 360x360 with 1 Axes>"
      ]
     },
     "metadata": {},
     "output_type": "display_data"
    }
   ],
   "source": [
    "sns.catplot(x=\"in/out\", y=\"temp\", data=a, kind=\"bar\")\n"
   ]
  },
  {
   "cell_type": "markdown",
   "id": "cf36e32f",
   "metadata": {},
   "source": [
    "## So after plotting the bar plot for in/out vs temperature we got to know that out temparatures of IOT devices are ranging in hotter range of temp and in temp are in low temp range."
   ]
  },
  {
   "cell_type": "code",
   "execution_count": null,
   "id": "f89b770e",
   "metadata": {},
   "outputs": [],
   "source": []
  }
 ],
 "metadata": {
  "kernelspec": {
   "display_name": "Python 3 (ipykernel)",
   "language": "python",
   "name": "python3"
  },
  "language_info": {
   "codemirror_mode": {
    "name": "ipython",
    "version": 3
   },
   "file_extension": ".py",
   "mimetype": "text/x-python",
   "name": "python",
   "nbconvert_exporter": "python",
   "pygments_lexer": "ipython3",
   "version": "3.10.4"
  }
 },
 "nbformat": 4,
 "nbformat_minor": 5
}

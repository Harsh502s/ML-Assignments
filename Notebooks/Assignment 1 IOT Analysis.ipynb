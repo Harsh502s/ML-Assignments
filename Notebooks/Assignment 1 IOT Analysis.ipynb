{
 "cells": [
  {
   "cell_type": "markdown",
   "id": "797fb77f",
   "metadata": {},
   "source": [
    "## Importing the Libraries and packages"
   ]
  },
  {
   "cell_type": "code",
   "execution_count": 1,
   "id": "5e5c8759",
   "metadata": {},
   "outputs": [],
   "source": [
    "import warnings as w\n",
    "import numpy as np\n",
    "import pandas as pd\n",
    "import seaborn as sns\n",
    "import matplotlib.pyplot as plt\n",
    "%matplotlib inline\n",
    "w.filterwarnings('ignore')\n"
   ]
  },
  {
   "cell_type": "markdown",
   "id": "85958d87",
   "metadata": {},
   "source": [
    "## Reading the datset"
   ]
  },
  {
   "attachments": {},
   "cell_type": "markdown",
   "id": "a05e81d8",
   "metadata": {},
   "source": [
    " ## Details of the data set\n",
    "### The data set contains 97606 rows and 5 columns as follows:\n",
    "\n",
    "> 1. **id** - a unique identifier for each IOT Device\n",
    "\n",
    "> 2. **room_id/id** - the unique identifier of the room where the IOT Device is located\n",
    "\n",
    "> 3. **noted_date** - the timestamp of the reading\n",
    "\n",
    "> 4. **temp** - the temperature reading\n",
    "\n",
    "> 5. **out/in** - whether the reading was taken from the outside or inside of the room"
   ]
  },
  {
   "cell_type": "code",
   "execution_count": 3,
   "id": "bb150714",
   "metadata": {},
   "outputs": [
    {
     "data": {
      "text/html": [
       "<div>\n",
       "<style scoped>\n",
       "    .dataframe tbody tr th:only-of-type {\n",
       "        vertical-align: middle;\n",
       "    }\n",
       "\n",
       "    .dataframe tbody tr th {\n",
       "        vertical-align: top;\n",
       "    }\n",
       "\n",
       "    .dataframe thead th {\n",
       "        text-align: right;\n",
       "    }\n",
       "</style>\n",
       "<table border=\"1\" class=\"dataframe\">\n",
       "  <thead>\n",
       "    <tr style=\"text-align: right;\">\n",
       "      <th></th>\n",
       "      <th>id</th>\n",
       "      <th>room_id/id</th>\n",
       "      <th>noted_date</th>\n",
       "      <th>temp</th>\n",
       "      <th>out/in</th>\n",
       "    </tr>\n",
       "  </thead>\n",
       "  <tbody>\n",
       "    <tr>\n",
       "      <th>0</th>\n",
       "      <td>__export__.temp_log_196134_bd201015</td>\n",
       "      <td>Room Admin</td>\n",
       "      <td>08-12-2018 09:30</td>\n",
       "      <td>29</td>\n",
       "      <td>In</td>\n",
       "    </tr>\n",
       "    <tr>\n",
       "      <th>1</th>\n",
       "      <td>__export__.temp_log_196131_7bca51bc</td>\n",
       "      <td>Room Admin</td>\n",
       "      <td>08-12-2018 09:30</td>\n",
       "      <td>29</td>\n",
       "      <td>In</td>\n",
       "    </tr>\n",
       "    <tr>\n",
       "      <th>2</th>\n",
       "      <td>__export__.temp_log_196127_522915e3</td>\n",
       "      <td>Room Admin</td>\n",
       "      <td>08-12-2018 09:29</td>\n",
       "      <td>41</td>\n",
       "      <td>Out</td>\n",
       "    </tr>\n",
       "    <tr>\n",
       "      <th>3</th>\n",
       "      <td>__export__.temp_log_196128_be0919cf</td>\n",
       "      <td>Room Admin</td>\n",
       "      <td>08-12-2018 09:29</td>\n",
       "      <td>41</td>\n",
       "      <td>Out</td>\n",
       "    </tr>\n",
       "    <tr>\n",
       "      <th>4</th>\n",
       "      <td>__export__.temp_log_196126_d30b72fb</td>\n",
       "      <td>Room Admin</td>\n",
       "      <td>08-12-2018 09:29</td>\n",
       "      <td>31</td>\n",
       "      <td>In</td>\n",
       "    </tr>\n",
       "  </tbody>\n",
       "</table>\n",
       "</div>"
      ],
      "text/plain": [
       "                                    id  room_id/id        noted_date  temp  \\\n",
       "0  __export__.temp_log_196134_bd201015  Room Admin  08-12-2018 09:30    29   \n",
       "1  __export__.temp_log_196131_7bca51bc  Room Admin  08-12-2018 09:30    29   \n",
       "2  __export__.temp_log_196127_522915e3  Room Admin  08-12-2018 09:29    41   \n",
       "3  __export__.temp_log_196128_be0919cf  Room Admin  08-12-2018 09:29    41   \n",
       "4  __export__.temp_log_196126_d30b72fb  Room Admin  08-12-2018 09:29    31   \n",
       "\n",
       "  out/in  \n",
       "0     In  \n",
       "1     In  \n",
       "2    Out  \n",
       "3    Out  \n",
       "4     In  "
      ]
     },
     "execution_count": 3,
     "metadata": {},
     "output_type": "execute_result"
    }
   ],
   "source": [
    "df = pd.read_csv(\n",
    "    r\"C:\\Users\\harsh\\College\\ML-Assignments\\Data Sets\\MLK\\IOT-temp.csv\")\n",
    "df.head()\n"
   ]
  },
  {
   "cell_type": "markdown",
   "id": "3230c297",
   "metadata": {},
   "source": [
    "## Dropping the id and room_id/id columns."
   ]
  },
  {
   "cell_type": "code",
   "execution_count": 4,
   "id": "40582e5d",
   "metadata": {},
   "outputs": [],
   "source": [
    "df.drop([\"id\", \"room_id/id\"], axis=1, inplace=True)"
   ]
  },
  {
   "cell_type": "markdown",
   "id": "7a7aa9a6",
   "metadata": {},
   "source": [
    "## Printing the statistics of the dataset."
   ]
  },
  {
   "cell_type": "code",
   "execution_count": 5,
   "id": "d560fade",
   "metadata": {},
   "outputs": [
    {
     "data": {
      "text/html": [
       "<div>\n",
       "<style scoped>\n",
       "    .dataframe tbody tr th:only-of-type {\n",
       "        vertical-align: middle;\n",
       "    }\n",
       "\n",
       "    .dataframe tbody tr th {\n",
       "        vertical-align: top;\n",
       "    }\n",
       "\n",
       "    .dataframe thead th {\n",
       "        text-align: right;\n",
       "    }\n",
       "</style>\n",
       "<table border=\"1\" class=\"dataframe\">\n",
       "  <thead>\n",
       "    <tr style=\"text-align: right;\">\n",
       "      <th></th>\n",
       "      <th>temp</th>\n",
       "    </tr>\n",
       "  </thead>\n",
       "  <tbody>\n",
       "    <tr>\n",
       "      <th>count</th>\n",
       "      <td>97606.000000</td>\n",
       "    </tr>\n",
       "    <tr>\n",
       "      <th>mean</th>\n",
       "      <td>35.053931</td>\n",
       "    </tr>\n",
       "    <tr>\n",
       "      <th>std</th>\n",
       "      <td>5.699825</td>\n",
       "    </tr>\n",
       "    <tr>\n",
       "      <th>min</th>\n",
       "      <td>21.000000</td>\n",
       "    </tr>\n",
       "    <tr>\n",
       "      <th>25%</th>\n",
       "      <td>30.000000</td>\n",
       "    </tr>\n",
       "    <tr>\n",
       "      <th>50%</th>\n",
       "      <td>35.000000</td>\n",
       "    </tr>\n",
       "    <tr>\n",
       "      <th>75%</th>\n",
       "      <td>40.000000</td>\n",
       "    </tr>\n",
       "    <tr>\n",
       "      <th>max</th>\n",
       "      <td>51.000000</td>\n",
       "    </tr>\n",
       "  </tbody>\n",
       "</table>\n",
       "</div>"
      ],
      "text/plain": [
       "               temp\n",
       "count  97606.000000\n",
       "mean      35.053931\n",
       "std        5.699825\n",
       "min       21.000000\n",
       "25%       30.000000\n",
       "50%       35.000000\n",
       "75%       40.000000\n",
       "max       51.000000"
      ]
     },
     "execution_count": 5,
     "metadata": {},
     "output_type": "execute_result"
    }
   ],
   "source": [
    "df.describe()\n"
   ]
  },
  {
   "cell_type": "markdown",
   "id": "d224ad7f",
   "metadata": {},
   "source": [
    "## Printing the structure of data."
   ]
  },
  {
   "cell_type": "code",
   "execution_count": 6,
   "id": "f7b0b5e5",
   "metadata": {},
   "outputs": [
    {
     "name": "stdout",
     "output_type": "stream",
     "text": [
      "<class 'pandas.core.frame.DataFrame'>\n",
      "RangeIndex: 97606 entries, 0 to 97605\n",
      "Data columns (total 3 columns):\n",
      " #   Column      Non-Null Count  Dtype \n",
      "---  ------      --------------  ----- \n",
      " 0   noted_date  97606 non-null  object\n",
      " 1   temp        97606 non-null  int64 \n",
      " 2   out/in      97606 non-null  object\n",
      "dtypes: int64(1), object(2)\n",
      "memory usage: 2.2+ MB\n"
     ]
    }
   ],
   "source": [
    "df.info()\n"
   ]
  },
  {
   "cell_type": "markdown",
   "id": "6d0971fb",
   "metadata": {},
   "source": [
    "## Checking the null values in the dataset."
   ]
  },
  {
   "cell_type": "code",
   "execution_count": 7,
   "id": "61f9257d",
   "metadata": {},
   "outputs": [
    {
     "data": {
      "text/plain": [
       "noted_date    0\n",
       "temp          0\n",
       "out/in        0\n",
       "dtype: int64"
      ]
     },
     "execution_count": 7,
     "metadata": {},
     "output_type": "execute_result"
    }
   ],
   "source": [
    "df.isna().sum().sort_values(ascending=False)\n"
   ]
  },
  {
   "cell_type": "markdown",
   "id": "f934bd23",
   "metadata": {},
   "source": [
    "## Converting the timestamp column from object to datatime for feature engineering."
   ]
  },
  {
   "cell_type": "code",
   "execution_count": 8,
   "id": "3f960a11",
   "metadata": {},
   "outputs": [],
   "source": [
    "df[\"noted_date\"] = pd.to_datetime(df[\"noted_date\"])\n",
    "\n",
    "df[\"date\"] = df[\"noted_date\"].dt.date\n",
    "df[\"time\"] = df[\"noted_date\"].dt.time\n",
    "\n",
    "df.drop(\"noted_date\", axis=1, inplace=True)"
   ]
  },
  {
   "cell_type": "markdown",
   "id": "4d3058a6",
   "metadata": {},
   "source": [
    "## Encoding the labels into 0(In) and 1(Out)."
   ]
  },
  {
   "cell_type": "code",
   "execution_count": 9,
   "id": "7accb99d",
   "metadata": {},
   "outputs": [],
   "source": [
    "from sklearn.preprocessing import LabelEncoder\n",
    "\n",
    "le = LabelEncoder()\n",
    "\n",
    "df[\"out/in\"] = le.fit_transform(df[\"out/in\"])"
   ]
  },
  {
   "cell_type": "markdown",
   "id": "96cd2af2",
   "metadata": {},
   "source": [
    "## Extracting the Year, Month, Day from date column."
   ]
  },
  {
   "cell_type": "code",
   "execution_count": 10,
   "id": "b9515d98",
   "metadata": {},
   "outputs": [],
   "source": [
    "df.date = pd.to_datetime(df.date)\n",
    "\n",
    "# We will only extract the month and day from the date column because the year is same for all the rows\n",
    "df[\"month\"] = df[\"date\"].dt.month\n",
    "df[\"day\"] = df[\"date\"].dt.day"
   ]
  },
  {
   "cell_type": "markdown",
   "id": "3eabca51",
   "metadata": {},
   "source": [
    "## Plotting the box/whisker plot for temperature's data."
   ]
  },
  {
   "cell_type": "code",
   "execution_count": 14,
   "id": "b125c1e9",
   "metadata": {},
   "outputs": [
    {
     "data": {
      "text/plain": [
       "<Axes: xlabel='temp'>"
      ]
     },
     "execution_count": 14,
     "metadata": {},
     "output_type": "execute_result"
    },
    {
     "data": {
      "image/png": "[encoded data removed]",
      "text/plain": [
       "<Figure size 640x480 with 1 Axes>"
      ]
     },
     "metadata": {},
     "output_type": "display_data"
    }
   ],
   "source": [
    "sns.set_theme(style=\"whitegrid\")\n",
    "sns.boxplot(x=\"temp\", data=df, palette=\"Set1\")"
   ]
  },
  {
   "cell_type": "markdown",
   "id": "b4c0c9b8",
   "metadata": {},
   "source": [
    "## Data distribution of Temp of IOT devices is good."
   ]
  },
  {
   "cell_type": "code",
   "execution_count": 17,
   "id": "1773caf4",
   "metadata": {},
   "outputs": [],
   "source": [
    "a = df[[\"temp\", \"out/in\"]].groupby(\"out/in\").count()\n",
    "\n",
    "a.reset_index(inplace=True)\n"
   ]
  },
  {
   "cell_type": "markdown",
   "id": "edd87b82",
   "metadata": {},
   "source": [
    "## Plotting the barplot for temp vs in/out."
   ]
  },
  {
   "cell_type": "code",
   "execution_count": 19,
   "id": "91368c63",
   "metadata": {},
   "outputs": [
    {
     "data": {
      "text/plain": [
       "<seaborn.axisgrid.FacetGrid at 0x2799084f910>"
      ]
     },
     "execution_count": 19,
     "metadata": {},
     "output_type": "execute_result"
    },
    {
     "data": {
      "image/png": "[encoded data removed]",
      "text/plain": [
       "<Figure size 500x500 with 1 Axes>"
      ]
     },
     "metadata": {},
     "output_type": "display_data"
    }
   ],
   "source": [
    "sns.catplot(x=\"out/in\", y=\"temp\", data=a, kind=\"bar\")"
   ]
  },
  {
   "attachments": {},
   "cell_type": "markdown",
   "id": "cf36e32f",
   "metadata": {},
   "source": [
    "> #### So after plotting the bar plot for in/out vs temperature we got to know that out temparatures of IOT devices are ranging in hotter range of temp and in temp are in low temp range."
   ]
  }
 ],
 "metadata": {
  "kernelspec": {
   "display_name": "Python 3 (ipykernel)",
   "language": "python",
   "name": "python3"
  },
  "language_info": {
   "codemirror_mode": {
    "name": "ipython",
    "version": 3
   },
   "file_extension": ".py",
   "mimetype": "text/x-python",
   "name": "python",
   "nbconvert_exporter": "python",
   "pygments_lexer": "ipython3",
   "version": "3.10.4"
  }
 },
 "nbformat": 4,
 "nbformat_minor": 5
}

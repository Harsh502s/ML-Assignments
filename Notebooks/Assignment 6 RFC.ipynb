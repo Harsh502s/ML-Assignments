{
 "cells": [
  {
   "cell_type": "markdown",
   "metadata": {},
   "source": [
    "# Importing Important Libraries"
   ]
  },
  {
   "cell_type": "code",
   "execution_count": 7,
   "metadata": {},
   "outputs": [],
   "source": [
    "import numpy as np\n",
    "import pandas as pd\n",
    "import matplotlib.pyplot as plt\n",
    "import seaborn as sns\n",
    "import warnings\n",
    "warnings.filterwarnings('ignore')\n",
    "%matplotlib inline\n"
   ]
  },
  {
   "cell_type": "code",
   "execution_count": 8,
   "metadata": {},
   "outputs": [],
   "source": [
    "pd.set_option(\"display.max_columns\", None)\n",
    "pd.set_option(\"display.float_format\", lambda x: \"%.3f\" % x)\n"
   ]
  },
  {
   "attachments": {},
   "cell_type": "markdown",
   "metadata": {},
   "source": [
    "## Deatiled Explanation of Data\n",
    "\n",
    "#### Ad Click Data Consists of 10 Columns and 10000 Rows\n",
    "\n",
    "> * **Daily Time Spent on Site:** Consumer time on site in minutes\n",
    "\n",
    "> * **Age:** Cutomer Age in Years\n",
    "\n",
    "> * **Area Income:** Avg. Income of geographical area of consumer\n",
    "\n",
    "> * **Daily Internet Usage:** Avg. minutes a day consumer is on the internet\n",
    "\n",
    "> * **Ad Topic Line:** Headline of the advertisement\n",
    "\n",
    "> * **City:** City of consumer\n",
    "\n",
    "> * **Male:** Whether or not consumer was male\n",
    "\n",
    "> * **Country:** Country of consumer\n",
    "\n",
    "> * **Timestamp:** Time at which consumer clicked on Ad or closed window\n",
    "\n",
    "> * **Clicked on Ad:** 0 or 1 indicated clicking on Ad"
   ]
  },
  {
   "cell_type": "code",
   "execution_count": 9,
   "metadata": {},
   "outputs": [
    {
     "data": {
      "text/html": [
       "<div>\n",
       "<style scoped>\n",
       "    .dataframe tbody tr th:only-of-type {\n",
       "        vertical-align: middle;\n",
       "    }\n",
       "\n",
       "    .dataframe tbody tr th {\n",
       "        vertical-align: top;\n",
       "    }\n",
       "\n",
       "    .dataframe thead th {\n",
       "        text-align: right;\n",
       "    }\n",
       "</style>\n",
       "<table border=\"1\" class=\"dataframe\">\n",
       "  <thead>\n",
       "    <tr style=\"text-align: right;\">\n",
       "      <th></th>\n",
       "      <th>Daily Time Spent on Site</th>\n",
       "      <th>Age</th>\n",
       "      <th>Area Income</th>\n",
       "      <th>Daily Internet Usage</th>\n",
       "      <th>Ad Topic Line</th>\n",
       "      <th>City</th>\n",
       "      <th>Male</th>\n",
       "      <th>Country</th>\n",
       "      <th>Timestamp</th>\n",
       "      <th>Clicked on Ad</th>\n",
       "    </tr>\n",
       "  </thead>\n",
       "  <tbody>\n",
       "    <tr>\n",
       "      <th>0</th>\n",
       "      <td>68.950</td>\n",
       "      <td>35</td>\n",
       "      <td>61833.900</td>\n",
       "      <td>256.090</td>\n",
       "      <td>Cloned 5thgeneration orchestration</td>\n",
       "      <td>Wrightburgh</td>\n",
       "      <td>0.000</td>\n",
       "      <td>Tunisia</td>\n",
       "      <td>3/27/2016 0:53</td>\n",
       "      <td>0</td>\n",
       "    </tr>\n",
       "    <tr>\n",
       "      <th>1</th>\n",
       "      <td>80.230</td>\n",
       "      <td>31</td>\n",
       "      <td>68441.850</td>\n",
       "      <td>193.770</td>\n",
       "      <td>Monitored national standardization</td>\n",
       "      <td>West Jodi</td>\n",
       "      <td>1.000</td>\n",
       "      <td>Nauru</td>\n",
       "      <td>4/4/2016 1:39</td>\n",
       "      <td>0</td>\n",
       "    </tr>\n",
       "    <tr>\n",
       "      <th>2</th>\n",
       "      <td>69.470</td>\n",
       "      <td>26</td>\n",
       "      <td>59785.940</td>\n",
       "      <td>236.500</td>\n",
       "      <td>Organic bottom-line service-desk</td>\n",
       "      <td>Davidton</td>\n",
       "      <td>0.000</td>\n",
       "      <td>San Marino</td>\n",
       "      <td>3/13/2016 20:35</td>\n",
       "      <td>0</td>\n",
       "    </tr>\n",
       "    <tr>\n",
       "      <th>3</th>\n",
       "      <td>74.150</td>\n",
       "      <td>29</td>\n",
       "      <td>54806.180</td>\n",
       "      <td>245.890</td>\n",
       "      <td>Triple-buffered reciprocal time-frame</td>\n",
       "      <td>West Terrifurt</td>\n",
       "      <td>1.000</td>\n",
       "      <td>Italy</td>\n",
       "      <td>1/10/2016 2:31</td>\n",
       "      <td>0</td>\n",
       "    </tr>\n",
       "    <tr>\n",
       "      <th>4</th>\n",
       "      <td>68.370</td>\n",
       "      <td>35</td>\n",
       "      <td>73889.990</td>\n",
       "      <td>225.580</td>\n",
       "      <td>Robust logistical utilization</td>\n",
       "      <td>South Manuel</td>\n",
       "      <td>0.000</td>\n",
       "      <td>Iceland</td>\n",
       "      <td>6/3/2016 3:36</td>\n",
       "      <td>0</td>\n",
       "    </tr>\n",
       "  </tbody>\n",
       "</table>\n",
       "</div>"
      ],
      "text/plain": [
       "   Daily Time Spent on Site  Age  Area Income  Daily Internet Usage  \\\n",
       "0                    68.950   35    61833.900               256.090   \n",
       "1                    80.230   31    68441.850               193.770   \n",
       "2                    69.470   26    59785.940               236.500   \n",
       "3                    74.150   29    54806.180               245.890   \n",
       "4                    68.370   35    73889.990               225.580   \n",
       "\n",
       "                           Ad Topic Line            City  Male     Country  \\\n",
       "0     Cloned 5thgeneration orchestration     Wrightburgh 0.000     Tunisia   \n",
       "1     Monitored national standardization       West Jodi 1.000       Nauru   \n",
       "2       Organic bottom-line service-desk        Davidton 0.000  San Marino   \n",
       "3  Triple-buffered reciprocal time-frame  West Terrifurt 1.000       Italy   \n",
       "4          Robust logistical utilization    South Manuel 0.000     Iceland   \n",
       "\n",
       "         Timestamp  Clicked on Ad  \n",
       "0   3/27/2016 0:53              0  \n",
       "1    4/4/2016 1:39              0  \n",
       "2  3/13/2016 20:35              0  \n",
       "3   1/10/2016 2:31              0  \n",
       "4    6/3/2016 3:36              0  "
      ]
     },
     "execution_count": 9,
     "metadata": {},
     "output_type": "execute_result"
    }
   ],
   "source": [
    "# Reading Data\n",
    "\n",
    "df = pd.read_csv(\n",
    "    r\"C:\\Users\\ds12\\College\\ML-Assignments\\Data Sets\\MLK\\Ad Click Data.csv\"\n",
    ")\n",
    "df.head()"
   ]
  },
  {
   "cell_type": "code",
   "execution_count": 10,
   "metadata": {},
   "outputs": [],
   "source": [
    "# Dropping columns which are not required\n",
    "\n",
    "df.drop([\"Ad Topic Line\", \"City\", \"Country\"], axis=1, inplace=True)\n"
   ]
  },
  {
   "cell_type": "code",
   "execution_count": 11,
   "metadata": {},
   "outputs": [
    {
     "data": {
      "text/html": [
       "<div>\n",
       "<style scoped>\n",
       "    .dataframe tbody tr th:only-of-type {\n",
       "        vertical-align: middle;\n",
       "    }\n",
       "\n",
       "    .dataframe tbody tr th {\n",
       "        vertical-align: top;\n",
       "    }\n",
       "\n",
       "    .dataframe thead th {\n",
       "        text-align: right;\n",
       "    }\n",
       "</style>\n",
       "<table border=\"1\" class=\"dataframe\">\n",
       "  <thead>\n",
       "    <tr style=\"text-align: right;\">\n",
       "      <th></th>\n",
       "      <th>Daily Time Spent on Site</th>\n",
       "      <th>Age</th>\n",
       "      <th>Area Income</th>\n",
       "      <th>Daily Internet Usage</th>\n",
       "      <th>Male</th>\n",
       "      <th>Timestamp</th>\n",
       "      <th>Clicked on Ad</th>\n",
       "    </tr>\n",
       "  </thead>\n",
       "  <tbody>\n",
       "    <tr>\n",
       "      <th>0</th>\n",
       "      <td>68.950</td>\n",
       "      <td>35</td>\n",
       "      <td>61833.900</td>\n",
       "      <td>256.090</td>\n",
       "      <td>0.000</td>\n",
       "      <td>3/27/2016 0:53</td>\n",
       "      <td>0</td>\n",
       "    </tr>\n",
       "    <tr>\n",
       "      <th>1</th>\n",
       "      <td>80.230</td>\n",
       "      <td>31</td>\n",
       "      <td>68441.850</td>\n",
       "      <td>193.770</td>\n",
       "      <td>1.000</td>\n",
       "      <td>4/4/2016 1:39</td>\n",
       "      <td>0</td>\n",
       "    </tr>\n",
       "    <tr>\n",
       "      <th>2</th>\n",
       "      <td>69.470</td>\n",
       "      <td>26</td>\n",
       "      <td>59785.940</td>\n",
       "      <td>236.500</td>\n",
       "      <td>0.000</td>\n",
       "      <td>3/13/2016 20:35</td>\n",
       "      <td>0</td>\n",
       "    </tr>\n",
       "    <tr>\n",
       "      <th>3</th>\n",
       "      <td>74.150</td>\n",
       "      <td>29</td>\n",
       "      <td>54806.180</td>\n",
       "      <td>245.890</td>\n",
       "      <td>1.000</td>\n",
       "      <td>1/10/2016 2:31</td>\n",
       "      <td>0</td>\n",
       "    </tr>\n",
       "    <tr>\n",
       "      <th>4</th>\n",
       "      <td>68.370</td>\n",
       "      <td>35</td>\n",
       "      <td>73889.990</td>\n",
       "      <td>225.580</td>\n",
       "      <td>0.000</td>\n",
       "      <td>6/3/2016 3:36</td>\n",
       "      <td>0</td>\n",
       "    </tr>\n",
       "  </tbody>\n",
       "</table>\n",
       "</div>"
      ],
      "text/plain": [
       "   Daily Time Spent on Site  Age  Area Income  Daily Internet Usage  Male  \\\n",
       "0                    68.950   35    61833.900               256.090 0.000   \n",
       "1                    80.230   31    68441.850               193.770 1.000   \n",
       "2                    69.470   26    59785.940               236.500 0.000   \n",
       "3                    74.150   29    54806.180               245.890 1.000   \n",
       "4                    68.370   35    73889.990               225.580 0.000   \n",
       "\n",
       "         Timestamp  Clicked on Ad  \n",
       "0   3/27/2016 0:53              0  \n",
       "1    4/4/2016 1:39              0  \n",
       "2  3/13/2016 20:35              0  \n",
       "3   1/10/2016 2:31              0  \n",
       "4    6/3/2016 3:36              0  "
      ]
     },
     "execution_count": 11,
     "metadata": {},
     "output_type": "execute_result"
    }
   ],
   "source": [
    "df.head()"
   ]
  },
  {
   "cell_type": "code",
   "execution_count": 12,
   "metadata": {},
   "outputs": [
    {
     "name": "stdout",
     "output_type": "stream",
     "text": [
      "<class 'pandas.core.frame.DataFrame'>\n",
      "RangeIndex: 1000 entries, 0 to 999\n",
      "Data columns (total 7 columns):\n",
      " #   Column                    Non-Null Count  Dtype  \n",
      "---  ------                    --------------  -----  \n",
      " 0   Daily Time Spent on Site  987 non-null    float64\n",
      " 1   Age                       1000 non-null   int64  \n",
      " 2   Area Income               987 non-null    float64\n",
      " 3   Daily Internet Usage      989 non-null    float64\n",
      " 4   Male                      997 non-null    float64\n",
      " 5   Timestamp                 1000 non-null   object \n",
      " 6   Clicked on Ad             1000 non-null   int64  \n",
      "dtypes: float64(4), int64(2), object(1)\n",
      "memory usage: 54.8+ KB\n"
     ]
    }
   ],
   "source": [
    "# Printing the distribution of dataframes\n",
    "df.info()\n"
   ]
  },
  {
   "cell_type": "code",
   "execution_count": 13,
   "metadata": {},
   "outputs": [
    {
     "data": {
      "text/html": [
       "<div>\n",
       "<style scoped>\n",
       "    .dataframe tbody tr th:only-of-type {\n",
       "        vertical-align: middle;\n",
       "    }\n",
       "\n",
       "    .dataframe tbody tr th {\n",
       "        vertical-align: top;\n",
       "    }\n",
       "\n",
       "    .dataframe thead th {\n",
       "        text-align: right;\n",
       "    }\n",
       "</style>\n",
       "<table border=\"1\" class=\"dataframe\">\n",
       "  <thead>\n",
       "    <tr style=\"text-align: right;\">\n",
       "      <th></th>\n",
       "      <th>Daily Time Spent on Site</th>\n",
       "      <th>Age</th>\n",
       "      <th>Area Income</th>\n",
       "      <th>Daily Internet Usage</th>\n",
       "      <th>Male</th>\n",
       "      <th>Clicked on Ad</th>\n",
       "    </tr>\n",
       "  </thead>\n",
       "  <tbody>\n",
       "    <tr>\n",
       "      <th>count</th>\n",
       "      <td>987.000</td>\n",
       "      <td>1000.000</td>\n",
       "      <td>987.000</td>\n",
       "      <td>989.000</td>\n",
       "      <td>997.000</td>\n",
       "      <td>1000.000</td>\n",
       "    </tr>\n",
       "    <tr>\n",
       "      <th>mean</th>\n",
       "      <td>64.930</td>\n",
       "      <td>36.009</td>\n",
       "      <td>54980.667</td>\n",
       "      <td>179.864</td>\n",
       "      <td>0.480</td>\n",
       "      <td>0.500</td>\n",
       "    </tr>\n",
       "    <tr>\n",
       "      <th>std</th>\n",
       "      <td>15.845</td>\n",
       "      <td>8.786</td>\n",
       "      <td>13439.999</td>\n",
       "      <td>43.870</td>\n",
       "      <td>0.500</td>\n",
       "      <td>0.500</td>\n",
       "    </tr>\n",
       "    <tr>\n",
       "      <th>min</th>\n",
       "      <td>32.600</td>\n",
       "      <td>19.000</td>\n",
       "      <td>13996.500</td>\n",
       "      <td>104.780</td>\n",
       "      <td>0.000</td>\n",
       "      <td>0.000</td>\n",
       "    </tr>\n",
       "    <tr>\n",
       "      <th>25%</th>\n",
       "      <td>51.270</td>\n",
       "      <td>29.000</td>\n",
       "      <td>46947.570</td>\n",
       "      <td>138.710</td>\n",
       "      <td>0.000</td>\n",
       "      <td>0.000</td>\n",
       "    </tr>\n",
       "    <tr>\n",
       "      <th>50%</th>\n",
       "      <td>68.110</td>\n",
       "      <td>35.000</td>\n",
       "      <td>57009.760</td>\n",
       "      <td>182.650</td>\n",
       "      <td>0.000</td>\n",
       "      <td>0.500</td>\n",
       "    </tr>\n",
       "    <tr>\n",
       "      <th>75%</th>\n",
       "      <td>78.460</td>\n",
       "      <td>42.000</td>\n",
       "      <td>65479.350</td>\n",
       "      <td>218.790</td>\n",
       "      <td>1.000</td>\n",
       "      <td>1.000</td>\n",
       "    </tr>\n",
       "    <tr>\n",
       "      <th>max</th>\n",
       "      <td>91.430</td>\n",
       "      <td>61.000</td>\n",
       "      <td>79484.800</td>\n",
       "      <td>267.010</td>\n",
       "      <td>1.000</td>\n",
       "      <td>1.000</td>\n",
       "    </tr>\n",
       "  </tbody>\n",
       "</table>\n",
       "</div>"
      ],
      "text/plain": [
       "       Daily Time Spent on Site      Age  Area Income  Daily Internet Usage  \\\n",
       "count                   987.000 1000.000      987.000               989.000   \n",
       "mean                     64.930   36.009    54980.667               179.864   \n",
       "std                      15.845    8.786    13439.999                43.870   \n",
       "min                      32.600   19.000    13996.500               104.780   \n",
       "25%                      51.270   29.000    46947.570               138.710   \n",
       "50%                      68.110   35.000    57009.760               182.650   \n",
       "75%                      78.460   42.000    65479.350               218.790   \n",
       "max                      91.430   61.000    79484.800               267.010   \n",
       "\n",
       "         Male  Clicked on Ad  \n",
       "count 997.000       1000.000  \n",
       "mean    0.480          0.500  \n",
       "std     0.500          0.500  \n",
       "min     0.000          0.000  \n",
       "25%     0.000          0.000  \n",
       "50%     0.000          0.500  \n",
       "75%     1.000          1.000  \n",
       "max     1.000          1.000  "
      ]
     },
     "execution_count": 13,
     "metadata": {},
     "output_type": "execute_result"
    }
   ],
   "source": [
    "# Description of the data\n",
    "\n",
    "df.describe()"
   ]
  },
  {
   "cell_type": "code",
   "execution_count": 14,
   "metadata": {},
   "outputs": [
    {
     "data": {
      "text/plain": [
       "Daily Time Spent on Site    13\n",
       "Area Income                 13\n",
       "Daily Internet Usage        11\n",
       "Male                         3\n",
       "Age                          0\n",
       "Timestamp                    0\n",
       "Clicked on Ad                0\n",
       "dtype: int64"
      ]
     },
     "execution_count": 14,
     "metadata": {},
     "output_type": "execute_result"
    }
   ],
   "source": [
    "# Checking Null values again\n",
    "\n",
    "df.isnull().sum().sort_values(ascending=False)\n"
   ]
  },
  {
   "cell_type": "code",
   "execution_count": 15,
   "metadata": {},
   "outputs": [],
   "source": [
    "# Fill the null values with mean of Daily Time Spent on Site, Daily Internet Usage, Age,Area Income\n",
    "\n",
    "df[\"Daily Time Spent on Site\"].fillna(\n",
    "    df[\"Daily Time Spent on Site\"].mean(), inplace=True\n",
    ")\n",
    "df[\"Daily Internet Usage\"].fillna(df[\"Daily Internet Usage\"].mean(), inplace=True)\n",
    "df[\"Male\"].fillna(df[\"Male\"].mode()[0], inplace=True)\n",
    "df[\"Area Income\"].fillna(df[\"Area Income\"].mean(), inplace=True)"
   ]
  },
  {
   "cell_type": "code",
   "execution_count": 16,
   "metadata": {},
   "outputs": [
    {
     "data": {
      "image/png": "[encoded data removed]",
      "text/plain": [
       "<Figure size 500x500 with 1 Axes>"
      ]
     },
     "metadata": {},
     "output_type": "display_data"
    },
    {
     "data": {
      "image/png": "[encoded data removed]",
      "text/plain": [
       "<Figure size 500x500 with 1 Axes>"
      ]
     },
     "metadata": {},
     "output_type": "display_data"
    },
    {
     "data": {
      "image/png": "[encoded data removed]",
      "text/plain": [
       "<Figure size 500x500 with 1 Axes>"
      ]
     },
     "metadata": {},
     "output_type": "display_data"
    },
    {
     "data": {
      "image/png": "[encoded data removed]",
      "text/plain": [
       "<Figure size 500x500 with 1 Axes>"
      ]
     },
     "metadata": {},
     "output_type": "display_data"
    },
    {
     "data": {
      "image/png": "[encoded data removed]",
      "text/plain": [
       "<Figure size 500x500 with 1 Axes>"
      ]
     },
     "metadata": {},
     "output_type": "display_data"
    },
    {
     "data": {
      "image/png": "[encoded data removed]",
      "text/plain": [
       "<Figure size 500x500 with 1 Axes>"
      ]
     },
     "metadata": {},
     "output_type": "display_data"
    },
    {
     "data": {
      "image/png": "[encoded data removed]",
      "text/plain": [
       "<Figure size 500x500 with 1 Axes>"
      ]
     },
     "metadata": {},
     "output_type": "display_data"
    }
   ],
   "source": [
    "# Plottiing the distribution of data\n",
    "\n",
    "for i in df.columns:\n",
    "    sns.displot(data=df, x=i)\n",
    "    plt.show()\n"
   ]
  },
  {
   "attachments": {},
   "cell_type": "markdown",
   "metadata": {},
   "source": [
    "### Removing the outliers from Area Income"
   ]
  },
  {
   "cell_type": "code",
   "execution_count": 17,
   "metadata": {},
   "outputs": [],
   "source": [
    "# Removing the outliers from Area Income\n",
    "\n",
    "q1 = df[\"Area Income\"].quantile(0.25)\n",
    "q2 = df[\"Area Income\"].quantile(0.75)\n",
    "iqr = q2 - q1\n",
    "df = df[(df[\"Area Income\"] > q1 - 1.5 * iqr) &\n",
    "        (df[\"Area Income\"] < q2 + 1.5 * iqr)]\n"
   ]
  },
  {
   "cell_type": "code",
   "execution_count": 18,
   "metadata": {},
   "outputs": [],
   "source": [
    "# Converting the timestamp to datetime format and extracting the day and month\n",
    "df.Timestamp = pd.to_datetime(df.Timestamp)\n",
    "\n",
    "df[\"Day\"] = df.Timestamp.dt.day\n",
    "df[\"Month\"] = df.Timestamp.dt.month\n",
    "\n",
    "# Dropping the timestamp column\n",
    "\n",
    "df.drop(\"Timestamp\", axis=1, inplace=True)\n"
   ]
  },
  {
   "cell_type": "code",
   "execution_count": 19,
   "metadata": {},
   "outputs": [
    {
     "data": {
      "text/html": [
       "<div>\n",
       "<style scoped>\n",
       "    .dataframe tbody tr th:only-of-type {\n",
       "        vertical-align: middle;\n",
       "    }\n",
       "\n",
       "    .dataframe tbody tr th {\n",
       "        vertical-align: top;\n",
       "    }\n",
       "\n",
       "    .dataframe thead th {\n",
       "        text-align: right;\n",
       "    }\n",
       "</style>\n",
       "<table border=\"1\" class=\"dataframe\">\n",
       "  <thead>\n",
       "    <tr style=\"text-align: right;\">\n",
       "      <th></th>\n",
       "      <th>Daily Time Spent on Site</th>\n",
       "      <th>Age</th>\n",
       "      <th>Area Income</th>\n",
       "      <th>Daily Internet Usage</th>\n",
       "      <th>Male</th>\n",
       "      <th>Clicked on Ad</th>\n",
       "      <th>Day</th>\n",
       "      <th>Month</th>\n",
       "    </tr>\n",
       "  </thead>\n",
       "  <tbody>\n",
       "    <tr>\n",
       "      <th>0</th>\n",
       "      <td>68.950</td>\n",
       "      <td>35</td>\n",
       "      <td>61833.900</td>\n",
       "      <td>256.090</td>\n",
       "      <td>0.000</td>\n",
       "      <td>0</td>\n",
       "      <td>27</td>\n",
       "      <td>3</td>\n",
       "    </tr>\n",
       "    <tr>\n",
       "      <th>1</th>\n",
       "      <td>80.230</td>\n",
       "      <td>31</td>\n",
       "      <td>68441.850</td>\n",
       "      <td>193.770</td>\n",
       "      <td>1.000</td>\n",
       "      <td>0</td>\n",
       "      <td>4</td>\n",
       "      <td>4</td>\n",
       "    </tr>\n",
       "    <tr>\n",
       "      <th>2</th>\n",
       "      <td>69.470</td>\n",
       "      <td>26</td>\n",
       "      <td>59785.940</td>\n",
       "      <td>236.500</td>\n",
       "      <td>0.000</td>\n",
       "      <td>0</td>\n",
       "      <td>13</td>\n",
       "      <td>3</td>\n",
       "    </tr>\n",
       "    <tr>\n",
       "      <th>3</th>\n",
       "      <td>74.150</td>\n",
       "      <td>29</td>\n",
       "      <td>54806.180</td>\n",
       "      <td>245.890</td>\n",
       "      <td>1.000</td>\n",
       "      <td>0</td>\n",
       "      <td>10</td>\n",
       "      <td>1</td>\n",
       "    </tr>\n",
       "    <tr>\n",
       "      <th>4</th>\n",
       "      <td>68.370</td>\n",
       "      <td>35</td>\n",
       "      <td>73889.990</td>\n",
       "      <td>225.580</td>\n",
       "      <td>0.000</td>\n",
       "      <td>0</td>\n",
       "      <td>3</td>\n",
       "      <td>6</td>\n",
       "    </tr>\n",
       "  </tbody>\n",
       "</table>\n",
       "</div>"
      ],
      "text/plain": [
       "   Daily Time Spent on Site  Age  Area Income  Daily Internet Usage  Male  \\\n",
       "0                    68.950   35    61833.900               256.090 0.000   \n",
       "1                    80.230   31    68441.850               193.770 1.000   \n",
       "2                    69.470   26    59785.940               236.500 0.000   \n",
       "3                    74.150   29    54806.180               245.890 1.000   \n",
       "4                    68.370   35    73889.990               225.580 0.000   \n",
       "\n",
       "   Clicked on Ad  Day  Month  \n",
       "0              0   27      3  \n",
       "1              0    4      4  \n",
       "2              0   13      3  \n",
       "3              0   10      1  \n",
       "4              0    3      6  "
      ]
     },
     "execution_count": 19,
     "metadata": {},
     "output_type": "execute_result"
    }
   ],
   "source": [
    "df.head()"
   ]
  },
  {
   "cell_type": "code",
   "execution_count": 20,
   "metadata": {},
   "outputs": [
    {
     "data": {
      "text/html": [
       "<div>\n",
       "<style scoped>\n",
       "    .dataframe tbody tr th:only-of-type {\n",
       "        vertical-align: middle;\n",
       "    }\n",
       "\n",
       "    .dataframe tbody tr th {\n",
       "        vertical-align: top;\n",
       "    }\n",
       "\n",
       "    .dataframe thead th {\n",
       "        text-align: right;\n",
       "    }\n",
       "</style>\n",
       "<table border=\"1\" class=\"dataframe\">\n",
       "  <thead>\n",
       "    <tr style=\"text-align: right;\">\n",
       "      <th></th>\n",
       "      <th>Daily Time Spent on Site</th>\n",
       "      <th>Age</th>\n",
       "      <th>Area Income</th>\n",
       "      <th>Daily Internet Usage</th>\n",
       "      <th>Male</th>\n",
       "      <th>Day</th>\n",
       "      <th>Month</th>\n",
       "      <th>Clicked on Ad</th>\n",
       "    </tr>\n",
       "  </thead>\n",
       "  <tbody>\n",
       "    <tr>\n",
       "      <th>0</th>\n",
       "      <td>68.950</td>\n",
       "      <td>35</td>\n",
       "      <td>61833.900</td>\n",
       "      <td>256.090</td>\n",
       "      <td>0.000</td>\n",
       "      <td>27</td>\n",
       "      <td>3</td>\n",
       "      <td>0</td>\n",
       "    </tr>\n",
       "    <tr>\n",
       "      <th>1</th>\n",
       "      <td>80.230</td>\n",
       "      <td>31</td>\n",
       "      <td>68441.850</td>\n",
       "      <td>193.770</td>\n",
       "      <td>1.000</td>\n",
       "      <td>4</td>\n",
       "      <td>4</td>\n",
       "      <td>0</td>\n",
       "    </tr>\n",
       "    <tr>\n",
       "      <th>2</th>\n",
       "      <td>69.470</td>\n",
       "      <td>26</td>\n",
       "      <td>59785.940</td>\n",
       "      <td>236.500</td>\n",
       "      <td>0.000</td>\n",
       "      <td>13</td>\n",
       "      <td>3</td>\n",
       "      <td>0</td>\n",
       "    </tr>\n",
       "    <tr>\n",
       "      <th>3</th>\n",
       "      <td>74.150</td>\n",
       "      <td>29</td>\n",
       "      <td>54806.180</td>\n",
       "      <td>245.890</td>\n",
       "      <td>1.000</td>\n",
       "      <td>10</td>\n",
       "      <td>1</td>\n",
       "      <td>0</td>\n",
       "    </tr>\n",
       "    <tr>\n",
       "      <th>4</th>\n",
       "      <td>68.370</td>\n",
       "      <td>35</td>\n",
       "      <td>73889.990</td>\n",
       "      <td>225.580</td>\n",
       "      <td>0.000</td>\n",
       "      <td>3</td>\n",
       "      <td>6</td>\n",
       "      <td>0</td>\n",
       "    </tr>\n",
       "  </tbody>\n",
       "</table>\n",
       "</div>"
      ],
      "text/plain": [
       "   Daily Time Spent on Site  Age  Area Income  Daily Internet Usage  Male  \\\n",
       "0                    68.950   35    61833.900               256.090 0.000   \n",
       "1                    80.230   31    68441.850               193.770 1.000   \n",
       "2                    69.470   26    59785.940               236.500 0.000   \n",
       "3                    74.150   29    54806.180               245.890 1.000   \n",
       "4                    68.370   35    73889.990               225.580 0.000   \n",
       "\n",
       "   Day  Month  Clicked on Ad  \n",
       "0   27      3              0  \n",
       "1    4      4              0  \n",
       "2   13      3              0  \n",
       "3   10      1              0  \n",
       "4    3      6              0  "
      ]
     },
     "execution_count": 20,
     "metadata": {},
     "output_type": "execute_result"
    }
   ],
   "source": [
    "# Reindexing the dataframe making the Clicked on Ad as the last column\n",
    "\n",
    "df = df.reindex(\n",
    "    columns=[\n",
    "        \"Daily Time Spent on Site\",\n",
    "        \"Age\",\n",
    "        \"Area Income\",\n",
    "        \"Daily Internet Usage\",\n",
    "        \"Male\",\n",
    "        \"Day\",\n",
    "        \"Month\",\n",
    "        \"Clicked on Ad\",\n",
    "    ]\n",
    ")\n",
    "df.head()\n"
   ]
  },
  {
   "cell_type": "code",
   "execution_count": 21,
   "metadata": {},
   "outputs": [],
   "source": [
    "# Splitting the data into X and y\n",
    "\n",
    "X = df.drop(\"Clicked on Ad\", axis=1)\n",
    "y = df[[\"Clicked on Ad\"]]\n"
   ]
  },
  {
   "cell_type": "code",
   "execution_count": 22,
   "metadata": {},
   "outputs": [],
   "source": [
    "# Splitting the data into train and test\n",
    "from sklearn.preprocessing import StandardScaler\n",
    "from sklearn.model_selection import train_test_split\n",
    "\n",
    "# Splitting the data into train and test\n",
    "\n",
    "X_train, X_test, y_train, y_test = train_test_split(\n",
    "    X, y, test_size=0.3, random_state=0)\n",
    "\n",
    "# Importing Scaling Libraries\n",
    "\n",
    "sc = StandardScaler()\n",
    "\n",
    "# Selecting columns to be scaled with unique values greater than 2\n",
    "\n",
    "cols = list(X_train.columns[X_train.nunique() > 2])\n",
    "\n",
    "SCX_train = X_train.copy(deep=True)\n",
    "SCX_test = X_test.copy(deep=True)\n",
    "\n",
    "# Scaling the data\n",
    "SCX_train[cols] = sc.fit_transform(SCX_train[cols])\n",
    "SCX_test[cols] = sc.transform(SCX_test[cols])\n"
   ]
  },
  {
   "cell_type": "code",
   "execution_count": 23,
   "metadata": {},
   "outputs": [],
   "source": [
    "# Importing the Different Machine Learning Models\n",
    "from sklearn.tree import DecisionTreeClassifier\n",
    "from sklearn.ensemble import RandomForestClassifier\n",
    "from sklearn.linear_model import LogisticRegression\n",
    "from sklearn.svm import SVC\n",
    "from sklearn.neighbors import KNeighborsClassifier\n",
    "from sklearn.naive_bayes import GaussianNB\n",
    "from xgboost import XGBClassifier\n",
    "from catboost import CatBoostClassifier\n",
    "\n",
    "# Importing the metrics\n",
    "from sklearn.metrics import (\n",
    "    accuracy_score,\n",
    "    confusion_matrix,\n",
    "    f1_score,\n",
    "    roc_auc_score,\n",
    "    precision_score,\n",
    "    recall_score,\n",
    ")"
   ]
  },
  {
   "cell_type": "code",
   "execution_count": 24,
   "metadata": {},
   "outputs": [],
   "source": [
    "# Creating a list of model name and models\n",
    "models = [\n",
    "    (\"Decision Tree\", DecisionTreeClassifier()),\n",
    "    (\"Random Forest\", RandomForestClassifier(n_estimators=200)),\n",
    "    (\"Logistic Regression\", LogisticRegression()),\n",
    "    (\"SVM\", SVC(kernel=\"rbf\")),\n",
    "    (\"KNN\", KNeighborsClassifier(n_neighbors=11)),\n",
    "    (\"Gaussian Naive Bayes\", GaussianNB()),\n",
    "    (\"XGBoost\", XGBClassifier(verbosity=0)),\n",
    "    (\"CatBoost\", CatBoostClassifier(verbose=0)),\n",
    "]"
   ]
  },
  {
   "cell_type": "code",
   "execution_count": 25,
   "metadata": {},
   "outputs": [
    {
     "data": {
      "text/html": [
       "<div>\n",
       "<style scoped>\n",
       "    .dataframe tbody tr th:only-of-type {\n",
       "        vertical-align: middle;\n",
       "    }\n",
       "\n",
       "    .dataframe tbody tr th {\n",
       "        vertical-align: top;\n",
       "    }\n",
       "\n",
       "    .dataframe thead th {\n",
       "        text-align: right;\n",
       "    }\n",
       "</style>\n",
       "<table border=\"1\" class=\"dataframe\">\n",
       "  <thead>\n",
       "    <tr style=\"text-align: right;\">\n",
       "      <th></th>\n",
       "      <th>Accuracy</th>\n",
       "      <th>Precision</th>\n",
       "      <th>Recall</th>\n",
       "      <th>F1 Score</th>\n",
       "      <th>ROC AUC Score</th>\n",
       "    </tr>\n",
       "  </thead>\n",
       "  <tbody>\n",
       "    <tr>\n",
       "      <th>Gaussian Naive Bayes</th>\n",
       "      <td>96.309</td>\n",
       "      <td>97.122</td>\n",
       "      <td>95.070</td>\n",
       "      <td>96.085</td>\n",
       "      <td>96.253</td>\n",
       "    </tr>\n",
       "    <tr>\n",
       "      <th>CatBoost</th>\n",
       "      <td>95.973</td>\n",
       "      <td>96.429</td>\n",
       "      <td>95.070</td>\n",
       "      <td>95.745</td>\n",
       "      <td>95.933</td>\n",
       "    </tr>\n",
       "    <tr>\n",
       "      <th>Random Forest</th>\n",
       "      <td>94.966</td>\n",
       "      <td>93.793</td>\n",
       "      <td>95.775</td>\n",
       "      <td>94.774</td>\n",
       "      <td>95.003</td>\n",
       "    </tr>\n",
       "    <tr>\n",
       "      <th>Decision Tree</th>\n",
       "      <td>94.631</td>\n",
       "      <td>93.750</td>\n",
       "      <td>95.070</td>\n",
       "      <td>94.406</td>\n",
       "      <td>94.651</td>\n",
       "    </tr>\n",
       "    <tr>\n",
       "      <th>XGBoost</th>\n",
       "      <td>94.631</td>\n",
       "      <td>93.750</td>\n",
       "      <td>95.070</td>\n",
       "      <td>94.406</td>\n",
       "      <td>94.651</td>\n",
       "    </tr>\n",
       "    <tr>\n",
       "      <th>Logistic Regression</th>\n",
       "      <td>89.262</td>\n",
       "      <td>91.667</td>\n",
       "      <td>85.211</td>\n",
       "      <td>88.321</td>\n",
       "      <td>89.080</td>\n",
       "    </tr>\n",
       "    <tr>\n",
       "      <th>KNN</th>\n",
       "      <td>71.812</td>\n",
       "      <td>73.770</td>\n",
       "      <td>63.380</td>\n",
       "      <td>68.182</td>\n",
       "      <td>71.434</td>\n",
       "    </tr>\n",
       "    <tr>\n",
       "      <th>SVM</th>\n",
       "      <td>70.134</td>\n",
       "      <td>74.312</td>\n",
       "      <td>57.042</td>\n",
       "      <td>64.542</td>\n",
       "      <td>69.547</td>\n",
       "    </tr>\n",
       "  </tbody>\n",
       "</table>\n",
       "</div>"
      ],
      "text/plain": [
       "                      Accuracy  Precision  Recall  F1 Score  ROC AUC Score\n",
       "Gaussian Naive Bayes    96.309     97.122  95.070    96.085         96.253\n",
       "CatBoost                95.973     96.429  95.070    95.745         95.933\n",
       "Random Forest           94.966     93.793  95.775    94.774         95.003\n",
       "Decision Tree           94.631     93.750  95.070    94.406         94.651\n",
       "XGBoost                 94.631     93.750  95.070    94.406         94.651\n",
       "Logistic Regression     89.262     91.667  85.211    88.321         89.080\n",
       "KNN                     71.812     73.770  63.380    68.182         71.434\n",
       "SVM                     70.134     74.312  57.042    64.542         69.547"
      ]
     },
     "execution_count": 25,
     "metadata": {},
     "output_type": "execute_result"
    }
   ],
   "source": [
    "# Creating a dataframe to store the results\n",
    "results = {}\n",
    "\n",
    "for model_name, model in models:\n",
    "    model.fit(X_train, y_train)\n",
    "    y_pred = model.predict(X_test)\n",
    "    results[model_name] = {\n",
    "        \"Accuracy\": accuracy_score(y_test, y_pred),\n",
    "        \"Precision\": precision_score(y_test, y_pred),\n",
    "        \"Recall\": recall_score(y_test, y_pred),\n",
    "        \"F1 Score\": f1_score(y_test, y_pred),\n",
    "        \"ROC AUC Score\": roc_auc_score(y_test, y_pred),\n",
    "    }\n",
    "\n",
    "# Printing the results\n",
    "results = pd.DataFrame(results).T * 100\n",
    "results.sort_values(by=\"ROC AUC Score\", ascending=False)\n"
   ]
  },
  {
   "attachments": {},
   "cell_type": "markdown",
   "metadata": {},
   "source": [
    "> ### We are going to create model without the scaling of data because the scaling of data is not required for the Random Forest Classifier."
   ]
  },
  {
   "cell_type": "code",
   "execution_count": 27,
   "metadata": {},
   "outputs": [
    {
     "name": "stdout",
     "output_type": "stream",
     "text": [
      "Fitting 5 folds for each of 600 candidates, totalling 3000 fits\n",
      "{'max_depth': 25, 'min_samples_leaf': 1, 'min_samples_split': 10, 'n_estimators': 100}\n",
      "0.9696486289229485\n",
      "RandomForestClassifier(max_depth=25, min_samples_split=10)\n"
     ]
    }
   ],
   "source": [
    "# Grid Search CV for Random Forest with hyperparameter tuning\n",
    "\n",
    "from sklearn.model_selection import GridSearchCV\n",
    "\n",
    "rf = RandomForestClassifier()\n",
    "\n",
    "# Param grid for Random Forest\n",
    "\n",
    "param_grid = {\n",
    "    \"n_estimators\": [100, 200, 300, 400, 500],\n",
    "    \"max_depth\": [5, 10, 15, 20, 25, 30],\n",
    "    \"min_samples_split\": [2, 5, 10, 15, 100],\n",
    "    \"min_samples_leaf\": [1, 2, 5, 10],\n",
    "}\n",
    "\n",
    "# Creating the grid search cv\n",
    "\n",
    "grid_search = GridSearchCV(\n",
    "    estimator=rf, param_grid=param_grid, cv=5, n_jobs=-1, verbose=2\n",
    ")\n",
    "\n",
    "# Fitting the model\n",
    "\n",
    "grid_search.fit(X_train, y_train)\n",
    "\n",
    "# Printing the best parameters\n",
    "\n",
    "print(grid_search.best_params_)\n",
    "print(grid_search.best_score_)\n",
    "print(grid_search.best_estimator_)\n"
   ]
  },
  {
   "cell_type": "code",
   "execution_count": 28,
   "metadata": {},
   "outputs": [
    {
     "data": {
      "text/plain": [
       "0.9530201342281879"
      ]
     },
     "execution_count": 28,
     "metadata": {},
     "output_type": "execute_result"
    }
   ],
   "source": [
    "accuracy_score(grid_search.predict(X_test), y_test)"
   ]
  },
  {
   "cell_type": "code",
   "execution_count": 29,
   "metadata": {},
   "outputs": [
    {
     "name": "stdout",
     "output_type": "stream",
     "text": [
      "Accuracy: 0.9530201342281879\n",
      "Precision: 0.9444444444444444\n",
      "Recall: 0.9577464788732394\n",
      "F1 Score: 0.951048951048951\n",
      "ROC AUC Score: 0.9532322137955941\n",
      "Confusion Matrix:\n",
      " [[148   8]\n",
      " [  6 136]]\n"
     ]
    }
   ],
   "source": [
    "# Creating the model with best parameters\n",
    "best_params = grid_search.best_params_\n",
    "\n",
    "rf = RandomForestClassifier(**best_params)\n",
    "\n",
    "# Fitting the model\n",
    "\n",
    "rf.fit(X_train, y_train)\n",
    "\n",
    "# Predicting the values\n",
    "\n",
    "y_pred = rf.predict(X_test)\n",
    "\n",
    "# Printing the results\n",
    "\n",
    "print(\"Accuracy:\", accuracy_score(y_test, y_pred))\n",
    "print(\"Precision:\", precision_score(y_test, y_pred))\n",
    "print(\"Recall:\", recall_score(y_test, y_pred))\n",
    "print(\"F1 Score:\", f1_score(y_test, y_pred))\n",
    "print(\"ROC AUC Score:\", roc_auc_score(y_test, y_pred))\n",
    "print(\"Confusion Matrix:\\n\", confusion_matrix(y_test, y_pred))\n"
   ]
  },
  {
   "cell_type": "code",
   "execution_count": 30,
   "metadata": {},
   "outputs": [
    {
     "name": "stdout",
     "output_type": "stream",
     "text": [
      "True Negative: 148 False Positive: 8 False Negative: 6 True Positive: 136\n",
      "Specificity: 0.9487179487179487\n",
      "Precision: 0.9444444444444444\n",
      "Recall/Sensitivity: 0.9577464788732394\n"
     ]
    }
   ],
   "source": [
    "# Calculating the Precision, Recall, Sensitivity, Specificity using confusion matrix values\n",
    "\n",
    "tn, fp, fn, tp = confusion_matrix(y_test, y_pred).ravel()\n",
    "\n",
    "print(\n",
    "    \"True Negative:\",\n",
    "    tn,\n",
    "    \"False Positive:\",\n",
    "    fp,\n",
    "    \"False Negative:\",\n",
    "    fn,\n",
    "    \"True Positive:\",\n",
    "    tp,\n",
    ")\n",
    "\n",
    "\n",
    "print(\"Specificity:\", tn / (tn + fp))\n",
    "\n",
    "print(\"Precision:\", tp / (tp + fp))\n",
    "\n",
    "print(\"Recall/Sensitivity:\", tp / (tp + fn))"
   ]
  },
  {
   "attachments": {},
   "cell_type": "markdown",
   "metadata": {},
   "source": [
    "## Tree Plotting for Random Forest"
   ]
  },
  {
   "cell_type": "code",
   "execution_count": 31,
   "metadata": {},
   "outputs": [
    {
     "data": {
      "text/plain": [
       "{'max_depth': 25,\n",
       " 'min_samples_leaf': 1,\n",
       " 'min_samples_split': 10,\n",
       " 'n_estimators': 100}"
      ]
     },
     "execution_count": 31,
     "metadata": {},
     "output_type": "execute_result"
    }
   ],
   "source": [
    "best_params\n"
   ]
  },
  {
   "cell_type": "code",
   "execution_count": 33,
   "metadata": {},
   "outputs": [
    {
     "data": {
      "image/png": "[encoded data removed]",
      "text/plain": [
       "<Figure size 1000x1000 with 1 Axes>"
      ]
     },
     "metadata": {},
     "output_type": "display_data"
    }
   ],
   "source": [
    "# Plotting the tree for Random Forest\n",
    "\n",
    "from sklearn.tree import plot_tree\n",
    "\n",
    "plt.figure(figsize=(10, 10))\n",
    "plot_tree(rf.estimators_[0], filled=True, rounded=True, feature_names=X.columns)\n",
    "plt.savefig(\"rftree.png\", dpi=300)\n",
    "plt.show()"
   ]
  },
  {
   "attachments": {},
   "cell_type": "markdown",
   "metadata": {},
   "source": [
    "> ####  We can infer that the model is not overfitting because the training and testing accuracy is almost same.\n",
    "\n",
    "> ####  We can infer from the tree that the most important feature is Daily Internet Usage.\n"
   ]
  }
 ],
 "metadata": {
  "kernelspec": {
   "display_name": "base",
   "language": "python",
   "name": "python3"
  },
  "language_info": {
   "codemirror_mode": {
    "name": "ipython",
    "version": 3
   },
   "file_extension": ".py",
   "mimetype": "text/x-python",
   "name": "python",
   "nbconvert_exporter": "python",
   "pygments_lexer": "ipython3",
   "version": "3.10.4"
  },
  "orig_nbformat": 4
 },
 "nbformat": 4,
 "nbformat_minor": 2
}
